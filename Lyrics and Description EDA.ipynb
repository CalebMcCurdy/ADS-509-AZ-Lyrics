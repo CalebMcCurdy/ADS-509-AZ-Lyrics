{
 "cells": [
  {
   "cell_type": "markdown",
   "id": "7f79baf9",
   "metadata": {},
   "source": [
    "# ADS 509 Assignment 2.1: Tokenization, Normalization, Descriptive Statistics \n",
    "\n",
    "This notebook holds Assignment 2.1 for Module 2 in ADS 509, Applied Text Mining. Work through this notebook, writing code and answering questions where required. \n",
    "\n",
    "In the previous assignment you put together Twitter data and lyrics data on two artists. In this assignment we explore some of the textual features of those data sets. If, for some reason, you did not complete that previous assignment, data to use for this assignment can be found in the assignment materials section of Blackboard. \n",
    "\n",
    "This assignment asks you to write a short function to calculate some descriptive statistics on a piece of text. Then you are asked to find some interesting and unique statistics on your corpora. \n"
   ]
  },
  {
   "cell_type": "code",
   "execution_count": 1,
   "id": "e2d096b7",
   "metadata": {},
   "outputs": [],
   "source": [
    "# Some of the pre-loaded imports\n",
    "import os\n",
    "import re\n",
    "import emoji\n",
    "import pandas as pd\n",
    "import numpy as np\n",
    "\n",
    "from collections import Counter, defaultdict\n",
    "from string import punctuation"
   ]
  },
  {
   "cell_type": "code",
   "execution_count": 2,
   "id": "ead83931",
   "metadata": {},
   "outputs": [
    {
     "data": {
      "text/plain": [
       "'/Users/calebmccurdy/nltk_data/corpora/stopwords'"
      ]
     },
     "execution_count": 2,
     "metadata": {},
     "output_type": "execute_result"
    }
   ],
   "source": [
    "# Additional import statements made here\n",
    "np.int = np.int_\n",
    "np.float = np.float_\n",
    "import nltk\n",
    "import zipfile\n",
    "import shutil\n",
    "import html\n",
    "import matplotlib\n",
    "import matplotlib.pyplot as plt\n",
    "\n",
    "#first, download the stopwords.zip file from https://www.nltk.org/nltk_data/ and then extract it\n",
    "source_dir = '/Users/calebmccurdy/downloads/stopwords'\n",
    "dest_dir = '/Users/calebmccurdy/nltk_data/corpora/stopwords'\n",
    "\n",
    "if os.path.exists(dest_dir):\n",
    "    shutil.rmtree(dest_dir)\n",
    "shutil.move(source_dir, dest_dir)\n",
    "\n",
    "#first, download the punkt.zip file from https://www.nltk.org/nltk_data/ and then extract it\n",
    "punkt_source_dir = '/Users/calebmccurdy/downloads/punkt'\n",
    "punkt_dest_dir = '/Users/calebmccurdy/nltk_data/corpora/punkt'\n",
    "\n",
    "if os.path.exists(punkt_dest_dir):\n",
    "    shutil.rmtree(punkt_dest_dir)\n",
    "shutil.move(punkt_source_dir, punkt_dest_dir)"
   ]
  },
  {
   "cell_type": "code",
   "execution_count": 3,
   "id": "654692a0",
   "metadata": {},
   "outputs": [],
   "source": [
    "# Final remaining pre-loaded imports\n",
    "from nltk.corpus import stopwords\n",
    "sw = stopwords.words(\"english\")"
   ]
  },
  {
   "cell_type": "code",
   "execution_count": 4,
   "id": "923b5a86",
   "metadata": {},
   "outputs": [],
   "source": [
    "# change `data_location` to the location of the folder on your machine.\n",
    "data_location = \"/Users/calebmccurdy/Desktop/USD/ADS 509/Lyrics Assignment/\"\n",
    "\n",
    "# These subfolders should still work if you correctly stored the \n",
    "# data from the Module 1 assignment\n",
    "twitter_folder = \"twitter/\"\n",
    "lyrics_folder = \"lyrics/\""
   ]
  },
  {
   "cell_type": "code",
   "execution_count": 80,
   "id": "06522af9",
   "metadata": {},
   "outputs": [],
   "source": [
    "def descriptive_stats(tokens, num_most_tokens = 5, verbose=True) :\n",
    "    \"\"\"\n",
    "        Given a list of tokens, print number of tokens, number of unique tokens, \n",
    "        number of characters, lexical diversity (https://en.wikipedia.org/wiki/Lexical_diversity), \n",
    "        and num_tokens most common tokens. Return a list with the number of tokens, number\n",
    "        of unique tokens, lexical diversity, and number of characters. \n",
    "    \n",
    "    \"\"\"\n",
    "\n",
    "    num_tokens = len(tokens)\n",
    "    num_unique_tokens = len(set(tokens))\n",
    "    lexical_diversity = len(set(tokens)) / len(tokens)\n",
    "    num_characters = sum(len(token) for token in tokens)\n",
    "    \n",
    "    if verbose :        \n",
    "        print(f\"There are {num_tokens} tokens in the data.\")\n",
    "        print(f\"There are {num_unique_tokens} unique tokens in the data.\")\n",
    "        print(f\"There are {num_characters} characters in the data.\")\n",
    "        print(f\"The lexical diversity is {lexical_diversity:.3f} in the data.\")\n",
    "\n",
    "        counter = Counter(tokens)\n",
    "        most_common_tokens = counter.most_common(num_most_tokens)\n",
    "        print(f\"Five most common tokens: {most_common_tokens}\")\n",
    "    \n",
    "    return([num_tokens, num_unique_tokens,\n",
    "            lexical_diversity,\n",
    "            num_characters])\n",
    "    "
   ]
  },
  {
   "cell_type": "code",
   "execution_count": 96,
   "id": "59dcf058",
   "metadata": {},
   "outputs": [
    {
     "name": "stdout",
     "output_type": "stream",
     "text": [
      "There are 13 tokens in the data.\n",
      "There are 9 unique tokens in the data.\n",
      "There are 55 characters in the data.\n",
      "The lexical diversity is 0.692 in the data.\n",
      "Five most common tokens: [('text', 3), ('here', 2), ('example', 2), ('is', 1), ('some', 1)]\n"
     ]
    }
   ],
   "source": [
    "text = \"\"\"here is some example text with other example text here in this text\"\"\".split()\n",
    "assert(descriptive_stats(text, verbose=True)[0] == 13)\n",
    "assert(descriptive_stats(text, verbose=False)[1] == 9)\n",
    "assert(abs(descriptive_stats(text, verbose=False)[2] - 0.69) < 0.02)\n",
    "assert(descriptive_stats(text, verbose=False)[3] == 55)\n"
   ]
  },
  {
   "attachments": {},
   "cell_type": "markdown",
   "id": "d2e7e1a2",
   "metadata": {},
   "source": [
    "Q: Why is it beneficial to use assertion statements in your code? \n",
    "\n",
    "A: Including assertion statements in code is beneficial as a quality control check to ensure that everything is running as expected. If a value does not match the intended value, an error will be thrown which alerts of the discrepancy. For example, if we change the first assertion statement to be equal to 14 instead of 13, the error will be thrown as there are not 14 tokens in the data."
   ]
  },
  {
   "attachments": {},
   "cell_type": "markdown",
   "id": "9d3bf93e",
   "metadata": {},
   "source": [
    "## Data Input\n",
    "\n",
    "Now read in each of the corpora. For the lyrics data, it may be convenient to store the entire contents of the file to make it easier to inspect the titles individually, as you'll do in the last part of the assignment. In the solution, I stored the lyrics data in a dictionary with two dimensions of keys: artist and song. The value was the file contents. A data frame would work equally well. \n",
    "\n",
    "For the Twitter data, we only need the description field for this assignment. Feel free all the descriptions read it into a data structure. In the solution, I stored the descriptions as a dictionary of lists, with the key being the artist. "
   ]
  },
  {
   "cell_type": "code",
   "execution_count": 160,
   "id": "d646679b",
   "metadata": {},
   "outputs": [],
   "source": [
    "# Read in the lyrics data\n",
    "\n",
    "# Define path to the lyrics folder\n",
    "lyrics_folder_path = os.path.join(data_location, lyrics_folder)\n",
    "\n",
    "# Dictionary to store lyrics and title data\n",
    "lyrics_data = {}\n",
    "title_data = {}\n",
    "\n",
    "# Loop through each artist subfolder in the lyrics folder\n",
    "for artist_folder in os.listdir(lyrics_folder_path):\n",
    "    artist_path = os.path.join(lyrics_folder_path, artist_folder)\n",
    "\n",
    "    # Check if it's a directory\n",
    "    if os.path.isdir(artist_path):\n",
    "        artist = artist_folder\n",
    "        lyrics_data.setdefault(artist, {})\n",
    "        title_data.setdefault(artist, {})\n",
    "        # Loop through each txt file in the artist subfolder\n",
    "        for file_name in os.listdir(artist_path):\n",
    "        \n",
    "            # Extract song name from the file name\n",
    "            song = os.path.splitext(file_name)[0]\n",
    "            file_path = os.path.join(artist_path, file_name)\n",
    "                \n",
    "            # Read the entire text data from the file\n",
    "            # https://www.dataquest.io/blog/read-file-python/ \n",
    "            with open(file_path, 'r') as file:\n",
    "                text_data = file.read()\n",
    "                lyrics_data[artist][song] = text_data\n",
    "\n",
    "            with open(file_path, 'r') as f:\n",
    "                text_data_line = f.readline()\n",
    "                title_data[artist][song] = text_data_line\n",
    "\n",
    "# Now, we have the lyrics data in the 'lyrics_data' dictionary with artist and song names as keys.\n",
    "# We also have the title data in the 'title_data' dictionary with artist and song names as keys."
   ]
  },
  {
   "cell_type": "code",
   "execution_count": 202,
   "id": "867d5ed8",
   "metadata": {},
   "outputs": [],
   "source": [
    "# read in the twitter data\n",
    "\n",
    "# Define the path to the twitter folder\n",
    "twitter_folder_path = os.path.join(data_location, twitter_folder)\n",
    "\n",
    "# Dictionary to store Twitter descriptions\n",
    "twitter_data = {}\n",
    "\n",
    "# Loop through each txt file in the twitter folder\n",
    "for file_name in os.listdir(twitter_folder_path):\n",
    "    if file_name.endswith(\"_data.txt\"):\n",
    "        artist = file_name.split(\"_\")[0]\n",
    "        file_path = os.path.join(twitter_folder_path, file_name)\n",
    "        df = pd.read_csv(file_path, sep='\\t', quoting=3)\n",
    "\n",
    "        # Extract the 'description' column from the DataFrame\n",
    "        descriptions = df['description'].tolist()\n",
    "        twitter_data[artist] = descriptions\n",
    "\n",
    "# Now, we have the twitter followers description data in the 'twitter_data' dictionary with artist as the key."
   ]
  },
  {
   "attachments": {},
   "cell_type": "markdown",
   "id": "6a5f3b12",
   "metadata": {},
   "source": [
    "## Data Cleaning\n",
    "\n",
    "Now clean and tokenize your data. Remove punctuation characters (available in the `punctuation` object in the `string` library), split on whitespace, fold to lowercase, and remove stopwords. Store your cleaned data, which must be accessible as an interable for `descriptive_stats`, in new objects or in new columns in your data frame. "
   ]
  },
  {
   "cell_type": "code",
   "execution_count": 166,
   "id": "71c73d86",
   "metadata": {},
   "outputs": [],
   "source": [
    "punctuation = set(punctuation) # speeds up comparison\n",
    "\n",
    "def clean_lyrics(text):\n",
    "    # remove punctuation characters\n",
    "    text = ''.join([char for char in text if char not in punctuation])\n",
    "    # fold to lowercase\n",
    "    text = text.lower()\n",
    "    # remove stopwords\n",
    "    text = ' '.join([word for word in text.split() if word.lower() not in sw])\n",
    "    # remove extra white spaces\n",
    "    text = re.sub(r'\\s+', ' ', text)\n",
    "    \n",
    "    return text.strip()\n",
    "\n",
    "def clean_title(text):\n",
    "    # remove punctuation characters\n",
    "    text = ''.join([char for char in text if char not in punctuation])\n",
    "    # fold to lowercase\n",
    "    text = text.lower()\n",
    "    # remove extra white spaces\n",
    "    text = re.sub(r'\\s+', ' ', text)\n",
    "    \n",
    "    return text.strip()\n",
    "\n",
    "def clean_twitter(text):\n",
    "    # remove punctuation characters\n",
    "    text = ''.join([char for char in text if char not in punctuation])\n",
    "    # fold to lowercase\n",
    "    text = text.lower()\n",
    "    # remove stopwords\n",
    "    text = ' '.join([word for word in text.split() if word.lower() not in sw])\n",
    "    # remove extra white spaces\n",
    "    text = re.sub(r'\\s+', ' ', text)\n",
    "    \n",
    "    return text.strip()"
   ]
  },
  {
   "cell_type": "code",
   "execution_count": 169,
   "id": "96e4d32a",
   "metadata": {},
   "outputs": [],
   "source": [
    "# Albrecht, J., Ramachandran, S., & Winkler, C. (2020). Blueprints for text analytics using Python. O'Reilly. \n",
    "RE_TOKEN = re.compile(r\"\"\"\n",
    "               ( [#]?[@\\w'’\\.\\-\\:]*\\w     # words, hash tags and email adresses\n",
    "               | [:;<]\\-?[\\)\\(3]          # coarse pattern for basic text emojis\n",
    "               | [\\U0001F100-\\U0001FFFF]  # coarse code range for unicode emojis\n",
    "               )\n",
    "               \"\"\", re.VERBOSE)\n",
    "\n",
    "def tokenize(text):\n",
    "    return RE_TOKEN.findall(text)"
   ]
  },
  {
   "cell_type": "code",
   "execution_count": 102,
   "id": "7b78bf5f",
   "metadata": {},
   "outputs": [],
   "source": [
    "# create your clean twitter data here\n",
    "cleaned_twitter_data = {}\n",
    "\n",
    "# Clean and tokenize Twitter data\n",
    "for artist, descriptions in twitter_data.items():\n",
    "    cleaned_twitter_data[artist] = []\n",
    "    for desc in descriptions:\n",
    "        # Check if desc is not a float\n",
    "        if not isinstance(desc, float):\n",
    "            cleaned_desc = clean_twitter(desc)\n",
    "            twitter_tokens = tokenize(cleaned_desc)\n",
    "            cleaned_twitter_data[artist].append(twitter_tokens)"
   ]
  },
  {
   "cell_type": "code",
   "execution_count": 204,
   "id": "aef99b82",
   "metadata": {},
   "outputs": [],
   "source": [
    "#####\n",
    "##### Can be used for testing by removing comments (#s)\n",
    "#####\n",
    "\n",
    "#for artist, twitter_tokens in cleaned_twitter_data.items():\n",
    "#    print(f\"Artist: {artist}\")\n",
    "#    print(f\"Descriptions:\")\n",
    "#    for toks in twitter_tokens[:10]:\n",
    "#        print(f\"- {toks}\")\n",
    "#    print(\"=\" * 30)'''"
   ]
  },
  {
   "cell_type": "code",
   "execution_count": 162,
   "id": "e0f22e10",
   "metadata": {},
   "outputs": [],
   "source": [
    "# create your clean lyrics data here\n",
    "cleaned_lyrics_data = {}\n",
    "\n",
    "# Clean and tokenize lyrics data\n",
    "for artist, songs in lyrics_data.items():\n",
    "    cleaned_lyrics_data[artist] = {}\n",
    "    for song, text in songs.items():\n",
    "        cleaned_text = clean_lyrics(text)\n",
    "        tokens = tokenize(cleaned_text)\n",
    "        cleaned_lyrics_data[artist][song] = tokens"
   ]
  },
  {
   "cell_type": "code",
   "execution_count": 205,
   "id": "5f3969cf",
   "metadata": {},
   "outputs": [],
   "source": [
    "#####\n",
    "##### Can be used for testing by removing comments (#s)\n",
    "#####\n",
    "\n",
    "#test_artist = 'CityAlight'\n",
    "#test_song = 'cityalight_grace'\n",
    "\n",
    "#if test_artist in cleaned_lyrics_data and test_song in cleaned_lyrics_data[test_artist]:\n",
    "#    print(f\"Tokens for {test_artist} - {test_song}:\\n\")\n",
    "#    print(cleaned_lyrics_data[test_artist][test_song])\n",
    "#else:\n",
    "#    print(f\"Tokens for {test_artist} - {test_song} not found.\")\n"
   ]
  },
  {
   "cell_type": "markdown",
   "id": "f2dd0179",
   "metadata": {},
   "source": [
    "## Basic Descriptive Statistics\n",
    "\n",
    "Call your `descriptive_stats` function on both your lyrics data and your twitter data and for both artists (four total calls). "
   ]
  },
  {
   "cell_type": "code",
   "execution_count": 90,
   "id": "91b47ee2",
   "metadata": {},
   "outputs": [
    {
     "name": "stdout",
     "output_type": "stream",
     "text": [
      "\n",
      "Descriptive Stats for Lyrics - Artist: robyn\n",
      "There are 15284 tokens in the data.\n",
      "There are 2170 unique tokens in the data.\n",
      "There are 73674 characters in the data.\n",
      "The lexical diversity is 0.142 in the data.\n",
      "Five most common tokens: [('know', 308), ('dont', 301), ('im', 299), ('love', 275), ('got', 252)]\n",
      "\n",
      "Descriptive Stats for Lyrics - Artist: cher\n",
      "There are 35932 tokens in the data.\n",
      "There are 3707 unique tokens in the data.\n",
      "There are 172600 characters in the data.\n",
      "The lexical diversity is 0.103 in the data.\n",
      "Five most common tokens: [('love', 1004), ('im', 513), ('know', 486), ('dont', 440), ('youre', 333)]\n",
      "\n",
      "Descriptive Stats for Lyrics - Artist: CityAlight\n",
      "There are 5277 tokens in the data.\n",
      "There are 838 unique tokens in the data.\n",
      "There are 26399 characters in the data.\n",
      "The lexical diversity is 0.159 in the data.\n",
      "Five most common tokens: [('jesus', 191), ('god', 150), ('lord', 79), ('day', 75), ('love', 75)]\n",
      "\n",
      "Descriptive Stats for Lyrics - Artist: PatBarrett\n",
      "There are 8378 tokens in the data.\n",
      "There are 1163 unique tokens in the data.\n",
      "There are 39830 characters in the data.\n",
      "The lexical diversity is 0.139 in the data.\n",
      "Five most common tokens: [('love', 273), ('oh', 197), ('lord', 177), ('praise', 153), ('im', 123)]\n"
     ]
    }
   ],
   "source": [
    "# For cleaned_lyrics_data\n",
    "for artist, songs in cleaned_lyrics_data.items():\n",
    "    artist_tokens = [tokens for song, tokens in songs.items()]\n",
    "    all_artist_tokens = [token for sublist in artist_tokens for token in sublist]\n",
    "    print(f\"\\nDescriptive Stats for Lyrics - Artist: {artist}\")\n",
    "    descriptive_stats(all_artist_tokens, verbose=True)"
   ]
  },
  {
   "cell_type": "code",
   "execution_count": 105,
   "id": "f0bbedd9",
   "metadata": {},
   "outputs": [
    {
     "name": "stdout",
     "output_type": "stream",
     "text": [
      "\n",
      "Descriptive Stats for Twitter - Artist: cher\n",
      "There are 16242158 tokens in the data.\n",
      "There are 1217934 unique tokens in the data.\n",
      "There are 92010972 characters in the data.\n",
      "The lexical diversity is 0.075 in the data.\n",
      "Five most common tokens: [('love', 217688), ('im', 139892), ('life', 125973), ('music', 90150), ('de', 73093)]\n",
      "\n",
      "Descriptive Stats for Twitter - Artist: robynkonichiwa\n",
      "There are 1524822 tokens in the data.\n",
      "There are 230574 unique tokens in the data.\n",
      "There are 9049001 characters in the data.\n",
      "The lexical diversity is 0.151 in the data.\n",
      "Five most common tokens: [('music', 15358), ('love', 11827), ('im', 9098), ('och', 7924), ('life', 7539)]\n"
     ]
    }
   ],
   "source": [
    "# For cleaned_twitter_data\n",
    "for artist, descriptions in cleaned_twitter_data.items():\n",
    "    all_artist_tokens = [token for sublist in descriptions for token in sublist]\n",
    "    print(f\"\\nDescriptive Stats for Twitter - Artist: {artist}\")\n",
    "    descriptive_stats(all_artist_tokens, verbose=True) "
   ]
  },
  {
   "attachments": {},
   "cell_type": "markdown",
   "id": "46294409",
   "metadata": {},
   "source": [
    "Q: How do you think the \"top 5 words\" would be different if we left stopwords in the data? \n",
    "\n",
    "A: If we left stopwords in the data, is is likely that they would make up most if not all of the \"top 5 words\" list. We can witness this as \"im\" which comes from \"I'm\" is not listed as a stopword despite its similar nature. This word is in the \"top 5 words\" of every call besides for CityAlight's lyrics. Given that \"I'm\" is not even one of the most common words among the stopwords list, the others would likely make up almost the entirety of the top 5 for each artist if left in the data.\n",
    "\n",
    "---\n",
    "\n",
    "Q: What were your prior beliefs about the lexical diversity between the artists? Does the difference (or lack thereof) in lexical diversity between the artists conform to your prior beliefs? \n",
    "\n",
    "A: Given that worship songs often have more repetition than other songs, I expected CityAlight and Pat Burrett to both have relatively low lexical diversities. While they appear to have large ones compared to Cher based on their entire body of work, this is likely caused by the quantity of songs and tokens rather than song type. As an artist produced more songs, their total lexical diversity is likely to lower as increasingly more of the words will be repeated. Thus, the total lexical diversity results do not contradict the prior belief that worship songs will have lower values for this metric.\n"
   ]
  },
  {
   "cell_type": "markdown",
   "id": "4d4e1ac1",
   "metadata": {},
   "source": [
    "\n",
    "## Specialty Statistics\n",
    "\n",
    "The descriptive statistics we have calculated are quite generic. You will now calculate a handful of statistics tailored to these data.\n",
    "\n",
    "1. Ten most common emojis by artist in the twitter descriptions.\n",
    "1. Ten most common hashtags by artist in the twitter descriptions.\n",
    "1. Five most common words in song titles by artist. \n",
    "1. For each artist, a histogram of song lengths (in terms of number of tokens) \n",
    "\n",
    "We can use the `emoji` library to help us identify emojis and you have been given a function to help you.\n"
   ]
  },
  {
   "cell_type": "code",
   "execution_count": 98,
   "id": "753a5a3e",
   "metadata": {},
   "outputs": [],
   "source": [
    "assert(emoji.is_emoji(\"❤️\"))\n",
    "assert(not emoji.is_emoji(\":-)\"))"
   ]
  },
  {
   "cell_type": "markdown",
   "id": "986fc4c0",
   "metadata": {},
   "source": [
    "### Emojis 😁\n",
    "\n",
    "What are the ten most common emojis by artist in the twitter descriptions? \n"
   ]
  },
  {
   "cell_type": "code",
   "execution_count": 206,
   "id": "5b2c96c4",
   "metadata": {},
   "outputs": [],
   "source": [
    "emoj = re.compile(r\"\"\"[\\U0001F100-\\U0001FFFF]\"\"\", re.VERBOSE)\n",
    "\n",
    "def emoji_tokenize(text):\n",
    "    return emoj.findall(text)"
   ]
  },
  {
   "cell_type": "code",
   "execution_count": 125,
   "id": "674e5dd0",
   "metadata": {},
   "outputs": [],
   "source": [
    "def emoji_descriptive_stats(tokens, num_most_emojis = 10, verbose=True) :\n",
    "    if verbose :        \n",
    "        emoji_counter = Counter(tokens)\n",
    "        most_common_emojis = emoji_counter.most_common(num_most_emojis)\n",
    "        print(f\"Ten most common emojis: {most_common_emojis}\")\n",
    "    \n",
    "    return(emoji_counter)"
   ]
  },
  {
   "cell_type": "code",
   "execution_count": 122,
   "id": "269cd433",
   "metadata": {},
   "outputs": [
    {
     "data": {
      "text/plain": [
       "'# Print the top 10 emojis for each artist\\nfor artist, emoji_counter in emojis_by_artist.items():\\n    print(f\"\\nTop 10 emojis for {artist}:\")\\n    for emoji, count in emoji_counter.most_common(10):\\n        print(f\"{emoji}: {count}\")'"
      ]
     },
     "execution_count": 122,
     "metadata": {},
     "output_type": "execute_result"
    }
   ],
   "source": [
    "# Create a dictionary to store emojis by artist\n",
    "emojis_by_artist = {}\n",
    "\n",
    "for artist, descriptions in twitter_data.items():\n",
    "    emojis_by_artist[artist] = []\n",
    "    for desc in descriptions:\n",
    "        # Check if desc is not a float\n",
    "        if not isinstance(desc, float):\n",
    "            cleaned_desc_emoji = clean_twitter(desc)\n",
    "            emoji_tokens = emoji_tokenize(cleaned_desc_emoji)\n",
    "            emojis_by_artist[artist].append(emoji_tokens)"
   ]
  },
  {
   "cell_type": "code",
   "execution_count": 126,
   "id": "6a9fa72f",
   "metadata": {},
   "outputs": [
    {
     "name": "stdout",
     "output_type": "stream",
     "text": [
      "\n",
      "Descriptive Stats for Twitter - Artist: cher\n",
      "Ten most common emojis: [('🌈', 47549), ('🏳', 33412), ('🇺', 25793), ('💙', 21379), ('🏻', 20930), ('🌊', 20223), ('🇸', 18309), ('💜', 16550), ('🇦', 15993), ('🏼', 15130)]\n",
      "\n",
      "Descriptive Stats for Twitter - Artist: robynkonichiwa\n",
      "Ten most common emojis: [('🌈', 4685), ('🏳', 3528), ('🏻', 1495), ('🇺', 1343), ('🇪', 1264), ('🇸', 1214), ('🏼', 1139), ('🇦', 960), ('💙', 809), ('💜', 739)]\n"
     ]
    }
   ],
   "source": [
    "for artist, emoji_descriptions in emojis_by_artist.items():\n",
    "    all_artist_emojis = [token for sublist in emoji_descriptions for token in sublist]\n",
    "    print(f\"\\nDescriptive Stats for Twitter - Artist: {artist}\")\n",
    "    emoji_descriptive_stats(all_artist_emojis, verbose=True) "
   ]
  },
  {
   "cell_type": "markdown",
   "id": "bab9b770",
   "metadata": {},
   "source": [
    "### Hashtags\n",
    "\n",
    "What are the ten most common hashtags by artist in the twitter descriptions? \n"
   ]
  },
  {
   "cell_type": "code",
   "execution_count": 147,
   "id": "07c396f1",
   "metadata": {},
   "outputs": [],
   "source": [
    "hashtag = re.compile(r\"#.+\", re.VERBOSE)\n",
    "\n",
    "def hash_tokenize(text):\n",
    "    hash_found = re.findall(r'#.*', text)\n",
    "    return hash_found\n",
    "\n",
    "def clean_twitter_hash(text):\n",
    "    # fold to lowercase\n",
    "    text = text.lower()\n",
    "    # remove stopwords\n",
    "    #text = re.sub(sw, ' ', text)\n",
    "    text = ' '.join([word for word in text.split() if word.lower() not in sw])\n",
    "    # remove extra white spaces\n",
    "    text = re.sub(r'\\s+', ' ', text)\n",
    "    \n",
    "    return text.strip()"
   ]
  },
  {
   "cell_type": "code",
   "execution_count": 148,
   "id": "0ee02658",
   "metadata": {},
   "outputs": [],
   "source": [
    "def hashtag_descriptive_stats(tokens, num_most_hashtags = 10, verbose=True) :\n",
    "    if verbose :        \n",
    "        hash_counter = Counter(tokens)\n",
    "        most_common_hashtags = hash_counter.most_common(num_most_hashtags)\n",
    "        print(f\"Ten most common hashtags: {most_common_hashtags}\")\n",
    "    \n",
    "    return(hash_counter)"
   ]
  },
  {
   "cell_type": "code",
   "execution_count": 149,
   "id": "98915ab4",
   "metadata": {},
   "outputs": [],
   "source": [
    "# Create a dictionary to store emojis by artist\n",
    "hashtags_by_artist = {}\n",
    "\n",
    "for artist, descriptions in twitter_data.items():\n",
    "    hashtags_by_artist[artist] = []\n",
    "    for desc in descriptions:\n",
    "        # Check if desc is not a float\n",
    "        if not isinstance(desc, float):\n",
    "            cleaned_desc_hashtag = clean_twitter_hash(desc)\n",
    "            hash_tokens = hash_tokenize(cleaned_desc_hashtag)\n",
    "            hashtags_by_artist[artist].append(hash_tokens)"
   ]
  },
  {
   "cell_type": "code",
   "execution_count": 150,
   "id": "6b8349c3",
   "metadata": {},
   "outputs": [
    {
     "name": "stdout",
     "output_type": "stream",
     "text": [
      "\n",
      "Descriptive Stats for Twitter - Artist: cher\n",
      "Ten most common hashtags: [('#blacklivesmatter', 2000), ('#resist', 1629), ('#blm', 1042), ('#theresistance', 403), ('#teamfollowback', 366), ('#resistance', 344), ('#freebritney', 329), ('#', 310), ('#bidenharris2020', 169), ('#voteblue', 166)]\n",
      "\n",
      "Descriptive Stats for Twitter - Artist: robynkonichiwa\n",
      "Ten most common hashtags: [('#blacklivesmatter', 189), ('#blm', 80), ('#teamfollowback', 45), ('#', 38), ('#freebritney', 27), ('#resist', 16), ('#bitcoin', 15), ('#coys', 12), ('#blacktranslivesmatter', 12), ('#brokenrecord', 10)]\n"
     ]
    }
   ],
   "source": [
    "for artist, hash_descriptions in hashtags_by_artist.items():\n",
    "    all_artist_hashtags = [token for sublist in hash_descriptions for token in sublist]\n",
    "    print(f\"\\nDescriptive Stats for Twitter - Artist: {artist}\")\n",
    "    hashtag_descriptive_stats(all_artist_hashtags, verbose=True) "
   ]
  },
  {
   "cell_type": "markdown",
   "id": "d10f21d5",
   "metadata": {},
   "source": [
    "### Song Titles\n",
    "\n",
    "What are the five most common words in song titles by artist? The song titles should be on the first line of the lyrics pages, so if you have kept the raw file contents around, you will not need to re-read the data.\n"
   ]
  },
  {
   "cell_type": "code",
   "execution_count": 175,
   "id": "bb69b36b",
   "metadata": {},
   "outputs": [
    {
     "name": "stdout",
     "output_type": "stream",
     "text": [
      "\n",
      "Descriptive Stats for Title - Artist: robyn\n",
      "Ten most common words in song titles (w/ stopwords): [('me', 11), ('you', 8), ('the', 8), ('my', 8), ('love', 6), ('to', 6), ('do', 5), ('should', 4), ('dont', 4), ('with', 4)]\n",
      "\n",
      "Descriptive Stats for Title - Artist: cher\n",
      "Ten most common words in song titles (w/ stopwords): [('the', 54), ('you', 41), ('love', 38), ('i', 32), ('to', 28), ('a', 26), ('me', 25), ('of', 21), ('in', 14), ('and', 13)]\n",
      "\n",
      "Descriptive Stats for Title - Artist: CityAlight\n",
      "Ten most common words in song titles (w/ stopwords): [('the', 12), ('is', 11), ('jesus', 8), ('my', 7), ('god', 6), ('i', 5), ('day', 4), ('of', 4), ('and', 4), ('all', 4)]\n",
      "\n",
      "Descriptive Stats for Title - Artist: PatBarrett\n",
      "Ten most common words in song titles (w/ stopwords): [('the', 10), ('i', 6), ('praise', 6), ('and', 5), ('is', 4), ('good', 4), ('my', 3), ('you', 3), ('sing', 3), ('to', 3)]\n"
     ]
    }
   ],
   "source": [
    "# The title_data was read earlier in the notebook for code optimization\n",
    "\n",
    "def title_descriptive_stats(tokens, num_most_title = 10, verbose=True) :\n",
    "    if verbose :        \n",
    "        title_counter = Counter(tokens)\n",
    "        most_common_title = title_counter.most_common(num_most_title)\n",
    "        print(f\"Ten most common words in song titles (w/ stopwords): {most_common_title}\")\n",
    "    \n",
    "    return(title_counter)\n",
    "\n",
    "# create your clean lyrics data here\n",
    "cleaned_title_data = {}\n",
    "\n",
    "# Clean and tokenize lyrics data\n",
    "for artist, songs in title_data.items():\n",
    "    cleaned_title_data[artist] = {}\n",
    "    for song, text in songs.items():\n",
    "        cleaned_title = clean_title(text)\n",
    "        title_tokens = tokenize(cleaned_title)\n",
    "        cleaned_title_data[artist][song] = title_tokens\n",
    "\n",
    "\n",
    "# For cleaned_lyrics_data\n",
    "for artist, songs in cleaned_title_data.items():\n",
    "    artist_titles = [tokens for song, tokens in songs.items()]\n",
    "    all_artist_titles = [token for sublist in artist_titles for token in sublist]\n",
    "    print(f\"\\nDescriptive Stats for Title - Artist: {artist}\")\n",
    "    title_descriptive_stats(all_artist_titles, verbose=True)"
   ]
  },
  {
   "cell_type": "code",
   "execution_count": 176,
   "id": "ad96f688",
   "metadata": {},
   "outputs": [
    {
     "name": "stdout",
     "output_type": "stream",
     "text": [
      "\n",
      "Descriptive Stats for Title - Artist: robyn\n",
      "Ten most common words in song titles (no stopwords): [('love', 6), ('dont', 4), ('u', 4), ('hang', 3), ('tell', 3), ('girl', 3), ('thing', 3), ('know', 3), ('kills', 2), ('time', 2)]\n",
      "\n",
      "Descriptive Stats for Title - Artist: cher\n",
      "Ten most common words in song titles (no stopwords): [('love', 38), ('man', 12), ('song', 11), ('dont', 10), ('come', 7), ('one', 7), ('believe', 6), ('time', 6), ('go', 6), ('heart', 6)]\n",
      "\n",
      "Descriptive Stats for Title - Artist: CityAlight\n",
      "Ten most common words in song titles (no stopwords): [('jesus', 8), ('god', 6), ('day', 4), ('christ', 3), ('praise', 2), ('love', 2), ('lord', 2), ('saviour', 2), ('strong', 2), ('kind', 2)]\n",
      "\n",
      "Descriptive Stats for Title - Artist: PatBarrett\n",
      "Ten most common words in song titles (no stopwords): [('praise', 6), ('good', 4), ('sing', 3), ('spirit', 3), ('better', 3), ('soul', 2), ('day', 2), ('lord', 2), ('way', 2), ('something', 2)]\n"
     ]
    }
   ],
   "source": [
    "# The title_data was read earlier in the notebook for code optimization\n",
    "\n",
    "def title_descriptive_stats2(tokens, num_most_title = 10, verbose=True) :\n",
    "    if verbose :        \n",
    "        title_counter = Counter(tokens)\n",
    "        most_common_title = title_counter.most_common(num_most_title)\n",
    "        print(f\"Ten most common words in song titles (no stopwords): {most_common_title}\")\n",
    "    \n",
    "    return(title_counter)\n",
    "\n",
    "# create your clean lyrics data here\n",
    "cleaned_title_data2 = {}\n",
    "\n",
    "# Clean and tokenize lyrics data\n",
    "for artist, songs in title_data.items():\n",
    "    cleaned_title_data2[artist] = {}\n",
    "    for song, text in songs.items():\n",
    "        cleaned_title2 = clean_lyrics(text)\n",
    "        title_tokens = tokenize(cleaned_title2)\n",
    "        cleaned_title_data2[artist][song] = title_tokens\n",
    "\n",
    "\n",
    "# For cleaned_lyrics_data\n",
    "for artist, songs in cleaned_title_data2.items():\n",
    "    artist_titles2 = [tokens for song, tokens in songs.items()]\n",
    "    all_artist_titles2 = [token for sublist in artist_titles2 for token in sublist]\n",
    "    print(f\"\\nDescriptive Stats for Title - Artist: {artist}\")\n",
    "    title_descriptive_stats2(all_artist_titles2, verbose=True)"
   ]
  },
  {
   "cell_type": "markdown",
   "id": "5dd4fd71",
   "metadata": {},
   "source": [
    "### Song Lengths\n",
    "\n",
    "For each artist, a histogram of song lengths (in terms of number of tokens). If you put the song lengths in a data frame with an artist column, matplotlib will make the plotting quite easy. An example is given to help you out. \n"
   ]
  },
  {
   "cell_type": "code",
   "execution_count": 179,
   "id": "805a1e52",
   "metadata": {},
   "outputs": [
    {
     "data": {
      "text/plain": [
       "artist\n",
       "Artist 1    Axes(0.125,0.11;0.775x0.77)\n",
       "Artist 2    Axes(0.125,0.11;0.775x0.77)\n",
       "Name: length, dtype: object"
      ]
     },
     "execution_count": 179,
     "metadata": {},
     "output_type": "execute_result"
    },
    {
     "data": {
      "image/png": "[encoded data removed]",
      "text/plain": [
       "<Figure size 640x480 with 1 Axes>"
      ]
     },
     "metadata": {},
     "output_type": "display_data"
    }
   ],
   "source": [
    "num_replicates = 1000\n",
    "\n",
    "df = pd.DataFrame({\n",
    "    \"artist\" : ['Artist 1'] * num_replicates + ['Artist 2']*num_replicates,\n",
    "    \"length\" : np.concatenate((np.random.poisson(125,num_replicates),np.random.poisson(150,num_replicates)))\n",
    "})\n",
    "\n",
    "df.groupby('artist')['length'].plot(kind=\"hist\",density=True,alpha=0.5,legend=True)"
   ]
  },
  {
   "attachments": {},
   "cell_type": "markdown",
   "id": "8fde9ebb",
   "metadata": {},
   "source": [
    "Since the lyrics may be stored with carriage returns or tabs, it may be useful to have a function that can collapse whitespace, using regular expressions, and be used for splitting. \n",
    "\n",
    "Q: What does the regular expression `'\\s+'` match on? \n",
    "\n",
    "A: This regular expression matches on any whitespace character, 1 or more times.\n"
   ]
  },
  {
   "cell_type": "code",
   "execution_count": 185,
   "id": "f0e34516",
   "metadata": {},
   "outputs": [],
   "source": [
    "collapse_whitespace = re.compile(r'\\s+')\n",
    "\n",
    "def tokenize_lyrics(lyric) : \n",
    "    \"\"\"strip and split on whitespace\"\"\"\n",
    "    #hash_found = re.findall(r'#.*', text)\n",
    "    lyric = lyric.strip()\n",
    "    return([item.lower() for item in collapse_whitespace.split(lyric)])"
   ]
  },
  {
   "cell_type": "code",
   "execution_count": 212,
   "id": "2294c440",
   "metadata": {},
   "outputs": [
    {
     "data": {
      "text/plain": [
       "artist\n",
       "CityAlight    Axes(0.125,0.11;0.775x0.77)\n",
       "PatBarrett    Axes(0.125,0.11;0.775x0.77)\n",
       "cher          Axes(0.125,0.11;0.775x0.77)\n",
       "robyn         Axes(0.125,0.11;0.775x0.77)\n",
       "Name: song_length, dtype: object"
      ]
     },
     "execution_count": 212,
     "metadata": {},
     "output_type": "execute_result"
    },
    {
     "data": {
      "image/png": "[encoded data removed]",
      "text/plain": [
       "<Figure size 640x480 with 1 Axes>"
      ]
     },
     "metadata": {},
     "output_type": "display_data"
    }
   ],
   "source": [
    "# Your lyric length comparison chart here. \n",
    "\n",
    "data_length = {}\n",
    "for artist, songs in lyrics_data.items():\n",
    "    data_length[artist] ={}\n",
    "    for song, text in songs.items():\n",
    "        cleaned_lyr = clean_lyrics(text)\n",
    "        lyr_tokens = tokenize(cleaned_lyr)\n",
    "        song_length = len(lyr_tokens)\n",
    "        data_length[artist][song] = song_length\n",
    "\n",
    "df = pd.DataFrame([(artist, song_len) for artist, songs in data_length.items() for song, song_len in songs.items()],\n",
    "                                columns=['artist', 'song_length'])\n",
    "\n",
    "# all histograms together\n",
    "df.groupby('artist')['song_length'].plot(kind=\"hist\",density=True,alpha=0.5,legend=True)"
   ]
  },
  {
   "cell_type": "code",
   "execution_count": 211,
   "id": "077fafd1",
   "metadata": {},
   "outputs": [
    {
     "data": {
      "image/png": "[encoded data removed]",
      "text/plain": [
       "<Figure size 1000x2000 with 4 Axes>"
      ]
     },
     "metadata": {},
     "output_type": "display_data"
    }
   ],
   "source": [
    "# Create subplots for each artist\n",
    "artists = df['artist'].unique()\n",
    "fig, axes = plt.subplots(nrows=len(artists), figsize=(10, 5 * len(artists)))\n",
    "\n",
    "# Plot individual histograms for each artist\n",
    "for ax, artist in zip(axes, artists):\n",
    "    artist_data = df[df['artist'] == artist]\n",
    "    ax.hist(artist_data['song_length'], bins=20, density=True, alpha=0.5)\n",
    "    ax.set_title(f'Histogram of Song Lengths for {artist}')\n",
    "    ax.set_xlabel('Song Length (Number of Tokens)')\n",
    "    ax.set_ylabel('Density')\n",
    "\n",
    "plt.tight_layout()\n",
    "plt.show()"
   ]
  }
 ],
 "metadata": {
  "kernelspec": {
   "display_name": "Python 3",
   "language": "python",
   "name": "python3"
  },
  "language_info": {
   "codemirror_mode": {
    "name": "ipython",
    "version": 3
   },
   "file_extension": ".py",
   "mimetype": "text/x-python",
   "name": "python",
   "nbconvert_exporter": "python",
   "pygments_lexer": "ipython3",
   "version": "3.8.2"
  },
  "vscode": {
   "interpreter": {
    "hash": "aee8b7b246df8f9039afb4144a1f6fd8d2ca17a180786b69acc140d282b71a49"
   }
  }
 },
 "nbformat": 4,
 "nbformat_minor": 5
}
