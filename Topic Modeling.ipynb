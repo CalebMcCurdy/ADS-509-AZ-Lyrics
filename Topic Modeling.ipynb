{
 "cells": [
  {
   "cell_type": "markdown",
   "id": "bce2bb89",
   "metadata": {},
   "source": [
    "# ADS 509 Assignment 5.1: Topic Modeling\n",
    "\n",
    "This notebook holds Assignment 5.1 for Module 5 in ADS 509, Applied Text Mining. Work through this notebook, writing code and answering questions where required. \n",
    "\n",
    "In this assignment you will work with a categorical corpus that accompanies `nltk`. You will build the three types of topic models described in Chapter 8 of _Blueprints for Text Analytics using Python_: NMF, LSA, and LDA. You will compare these models to the true categories. \n"
   ]
  },
  {
   "cell_type": "code",
   "execution_count": 2,
   "id": "a85bce08",
   "metadata": {},
   "outputs": [],
   "source": [
    "# These libraries may be useful to you\n",
    "\n",
    "#!pip3 install pyLDAvis==3.4.1 --user  #You need to restart the Kernel after installation.\n",
    "# You also need a Python version => 3.9.0\n",
    "from nltk.corpus import brown\n",
    "\n",
    "import numpy as np\n",
    "import pandas as pd\n",
    "from tqdm.auto import tqdm\n",
    "\n",
    "import pyLDAvis\n",
    "import pyLDAvis.lda_model\n",
    "import pyLDAvis.gensim_models\n",
    "\n",
    "import spacy\n",
    "from sklearn.feature_extraction.text import TfidfVectorizer, CountVectorizer\n",
    "from sklearn.decomposition import NMF, TruncatedSVD, LatentDirichletAllocation\n",
    "\n",
    "from spacy.lang.en.stop_words import STOP_WORDS as stopwords\n",
    "\n",
    "from collections import Counter, defaultdict\n",
    "\n",
    "#!python3 -m spacy download en_core_web_sm\n",
    "\n",
    "nlp = spacy.load('en_core_web_sm')"
   ]
  },
  {
   "cell_type": "code",
   "execution_count": 3,
   "id": "a218df60",
   "metadata": {},
   "outputs": [
    {
     "data": {
      "text/plain": [
       "'/Users/calebmccurdy/nltk_data/corpora/brown'"
      ]
     },
     "execution_count": 3,
     "metadata": {},
     "output_type": "execute_result"
    }
   ],
   "source": [
    "# add any additional libaries you need here\n",
    "np.int = np.int_\n",
    "np.float = np.float_\n",
    "import re\n",
    "import os\n",
    "import nltk\n",
    "import zipfile\n",
    "import shutil\n",
    "import html\n",
    "import matplotlib\n",
    "import matplotlib.pyplot as plt\n",
    "\n",
    "#first, download the stopwords.zip file from https://www.nltk.org/nltk_data/ and then extract it\n",
    "stop_source_dir = '/Users/calebmccurdy/downloads/stopwords'\n",
    "stop_dest_dir = '/Users/calebmccurdy/nltk_data/corpora/stopwords'\n",
    "\n",
    "if os.path.exists(stop_dest_dir):\n",
    "    shutil.rmtree(stop_dest_dir)\n",
    "shutil.move(stop_source_dir, stop_dest_dir)\n",
    "\n",
    "#first, download the punkt.zip file from https://www.nltk.org/nltk_data/ and then extract it\n",
    "punkt_source_dir = '/Users/calebmccurdy/downloads/punkt'\n",
    "punkt_dest_dir = '/Users/calebmccurdy/nltk_data/corpora/punkt'\n",
    "\n",
    "if os.path.exists(punkt_dest_dir):\n",
    "    shutil.rmtree(punkt_dest_dir)\n",
    "shutil.move(punkt_source_dir, punkt_dest_dir)\n",
    "\n",
    "#first, download the punkt.zip file from https://www.nltk.org/nltk_data/ and then extract it\n",
    "brown_source_dir = '/Users/calebmccurdy/downloads/brown'\n",
    "brown_dest_dir = '/Users/calebmccurdy/nltk_data/corpora/brown'\n",
    "\n",
    "if os.path.exists(brown_dest_dir):\n",
    "    shutil.rmtree(brown_dest_dir)\n",
    "shutil.move(brown_source_dir, brown_dest_dir)"
   ]
  },
  {
   "cell_type": "code",
   "execution_count": 8,
   "id": "d98c56e3",
   "metadata": {},
   "outputs": [],
   "source": [
    "from nltk.corpus import brown\n",
    "from nltk.corpus import stopwords\n",
    "sw = stopwords.words(\"english\")"
   ]
  },
  {
   "cell_type": "code",
   "execution_count": 9,
   "id": "494de237",
   "metadata": {},
   "outputs": [],
   "source": [
    "# This function comes from the BTAP repo.\n",
    "\n",
    "def display_topics(model, features, no_top_words=5):\n",
    "    for topic, words in enumerate(model.components_):\n",
    "        total = words.sum()\n",
    "        largest = words.argsort()[::-1] # invert sort order\n",
    "        print(\"\\nTopic %02d\" % topic)\n",
    "        for i in range(0, no_top_words):\n",
    "            print(\"  %s (%2.2f)\" % (features[largest[i]], abs(words[largest[i]]*100.0/total)))"
   ]
  },
  {
   "cell_type": "markdown",
   "id": "a30a901c",
   "metadata": {},
   "source": [
    "## Getting to Know the Brown Corpus\n",
    "\n",
    "Let's spend a bit of time getting to know what's in the Brown corpus, our NLTK example of an \"overlapping\" corpus."
   ]
  },
  {
   "cell_type": "code",
   "execution_count": 10,
   "id": "457c59ed",
   "metadata": {},
   "outputs": [
    {
     "name": "stdout",
     "output_type": "stream",
     "text": [
      "For adventure we have 29 articles.\n",
      "For belles_lettres we have 75 articles.\n",
      "For editorial we have 27 articles.\n",
      "For fiction we have 29 articles.\n",
      "For government we have 30 articles.\n",
      "For hobbies we have 36 articles.\n",
      "For humor we have 9 articles.\n",
      "For learned we have 80 articles.\n",
      "For lore we have 48 articles.\n",
      "For mystery we have 24 articles.\n",
      "For news we have 44 articles.\n",
      "For religion we have 17 articles.\n",
      "For reviews we have 17 articles.\n",
      "For romance we have 29 articles.\n",
      "For science_fiction we have 6 articles.\n"
     ]
    }
   ],
   "source": [
    "# categories of articles in Brown corpus\n",
    "for category in brown.categories() :\n",
    "    print(f\"For {category} we have {len(brown.fileids(categories=category))} articles.\")"
   ]
  },
  {
   "cell_type": "markdown",
   "id": "23fb133c",
   "metadata": {},
   "source": [
    "Let's create a dataframe of the articles in of hobbies, editorial, government, news, and romance."
   ]
  },
  {
   "cell_type": "code",
   "execution_count": 11,
   "id": "18f50b9d",
   "metadata": {},
   "outputs": [
    {
     "data": {
      "text/plain": [
       "(166, 3)"
      ]
     },
     "execution_count": 11,
     "metadata": {},
     "output_type": "execute_result"
    }
   ],
   "source": [
    "categories = ['editorial','government','news','romance','hobbies'] \n",
    "\n",
    "category_list = []\n",
    "file_ids = []\n",
    "texts = []\n",
    "\n",
    "for category in categories : \n",
    "    for file_id in brown.fileids(categories=category) :\n",
    "        \n",
    "        # build some lists for a dataframe\n",
    "        category_list.append(category)\n",
    "        file_ids.append(file_id)\n",
    "        \n",
    "        text = brown.words(fileids=file_id)\n",
    "        texts.append(\" \".join(text))\n",
    "\n",
    "        \n",
    "        \n",
    "df = pd.DataFrame()\n",
    "df['category'] = category_list\n",
    "df['id'] = file_ids\n",
    "df['text'] = texts \n",
    "\n",
    "df.shape"
   ]
  },
  {
   "cell_type": "code",
   "execution_count": 12,
   "id": "586f47de",
   "metadata": {},
   "outputs": [],
   "source": [
    "# Let's add some helpful columns on the df\n",
    "df['char_len'] = df['text'].apply(len)\n",
    "df['word_len'] = df['text'].apply(lambda x: len(x.split()))\n"
   ]
  },
  {
   "cell_type": "code",
   "execution_count": 13,
   "id": "2128fd2d",
   "metadata": {},
   "outputs": [
    {
     "data": {
      "text/plain": [
       "<Axes: xlabel='category'>"
      ]
     },
     "execution_count": 13,
     "metadata": {},
     "output_type": "execute_result"
    },
    {
     "data": {
      "image/png": "[encoded data removed]",
      "text/plain": [
       "<Figure size 1000x600 with 1 Axes>"
      ]
     },
     "metadata": {},
     "output_type": "display_data"
    }
   ],
   "source": [
    "%matplotlib inline\n",
    "df.groupby('category').agg({'word_len': 'mean'}).plot.bar(figsize=(10,6))"
   ]
  },
  {
   "cell_type": "markdown",
   "id": "554ffeb5",
   "metadata": {},
   "source": [
    "Now do our TF-IDF and Count vectorizations."
   ]
  },
  {
   "cell_type": "code",
   "execution_count": 17,
   "id": "21a7d247",
   "metadata": {},
   "outputs": [
    {
     "data": {
      "text/plain": [
       "(166, 5073)"
      ]
     },
     "execution_count": 17,
     "metadata": {},
     "output_type": "execute_result"
    }
   ],
   "source": [
    "count_text_vectorizer = CountVectorizer(stop_words=list(sw), min_df=5, max_df=0.7)\n",
    "count_text_vectors = count_text_vectorizer.fit_transform(df[\"text\"])\n",
    "count_text_vectors.shape"
   ]
  },
  {
   "cell_type": "code",
   "execution_count": 19,
   "id": "875deba9",
   "metadata": {},
   "outputs": [
    {
     "data": {
      "text/plain": [
       "(166, 5073)"
      ]
     },
     "execution_count": 19,
     "metadata": {},
     "output_type": "execute_result"
    }
   ],
   "source": [
    "tfidf_text_vectorizer = TfidfVectorizer(stop_words=list(sw), min_df=5, max_df=0.7)\n",
    "tfidf_text_vectors = tfidf_text_vectorizer.fit_transform(df['text'])\n",
    "tfidf_text_vectors.shape"
   ]
  },
  {
   "attachments": {},
   "cell_type": "markdown",
   "id": "a1062b21",
   "metadata": {},
   "source": [
    "Q: What do the two data frames `count_text_vectors` and `tfidf_text_vectors` hold? \n",
    "\n",
    "A: The rows of each `count_text_vectors` and `tfidf_text_vectors` hold the articles from the previously decided 5 categories of the brown corpus. The columns are the unique words in these articles as long as they appear in a minimum of 5 and a maximum of 70% of them. In these ways, they are the same in terms of their structures, however, the values are different. For `count_text_vectors`, the values are the count of the unique word within each document. For `tfidf_text_vectors`, the values are the TF-IDF scores: the importance of the word to the document relative to the whole corpus. "
   ]
  },
  {
   "cell_type": "markdown",
   "id": "f77c3f94",
   "metadata": {},
   "source": [
    "## Fitting a Non-Negative Matrix Factorization Model\n",
    "\n",
    "In this section the code to fit a five-topic NMF model has already been written. This code comes directly from the [BTAP repo](https://github.com/blueprints-for-text-analytics-python/blueprints-text), which will help you tremendously in the coming sections. "
   ]
  },
  {
   "cell_type": "code",
   "execution_count": 20,
   "id": "d28745a3",
   "metadata": {},
   "outputs": [],
   "source": [
    "nmf_text_model = NMF(n_components=5, random_state=314)\n",
    "W_text_matrix = nmf_text_model.fit_transform(tfidf_text_vectors)\n",
    "H_text_matrix = nmf_text_model.components_"
   ]
  },
  {
   "cell_type": "code",
   "execution_count": 38,
   "id": "28a78e89",
   "metadata": {},
   "outputs": [],
   "source": [
    "# assertion statements to ensure the document-topic and topic-feature matrices have the intended shapes\n",
    "assert W_text_matrix.shape == (166, 5), f\"Expected shape (166, 5), but got {W_text_matrix.shape}\"\n",
    "assert H_text_matrix.shape == (5, 5073), f\"Expected shape (5, 5073), but got {H_text_matrix.shape}\""
   ]
  },
  {
   "cell_type": "code",
   "execution_count": 21,
   "id": "a67185e7",
   "metadata": {},
   "outputs": [
    {
     "name": "stdout",
     "output_type": "stream",
     "text": [
      "\n",
      "Topic 00\n",
      "  mr (0.48)\n",
      "  president (0.43)\n",
      "  kennedy (0.41)\n",
      "  united (0.40)\n",
      "  khrushchev (0.38)\n",
      "\n",
      "Topic 01\n",
      "  said (0.78)\n",
      "  thought (0.38)\n",
      "  back (0.34)\n",
      "  man (0.34)\n",
      "  little (0.31)\n",
      "\n",
      "Topic 02\n",
      "  mrs (2.38)\n",
      "  mr (0.75)\n",
      "  said (0.71)\n",
      "  miss (0.48)\n",
      "  car (0.46)\n",
      "\n",
      "Topic 03\n",
      "  state (0.38)\n",
      "  development (0.35)\n",
      "  tax (0.32)\n",
      "  sales (0.29)\n",
      "  may (0.28)\n",
      "\n",
      "Topic 04\n",
      "  game (0.97)\n",
      "  league (0.70)\n",
      "  ball (0.69)\n",
      "  baseball (0.66)\n",
      "  team (0.63)\n"
     ]
    }
   ],
   "source": [
    "display_topics(nmf_text_model, tfidf_text_vectorizer.get_feature_names_out())"
   ]
  },
  {
   "attachments": {},
   "cell_type": "markdown",
   "id": "fee51e9b",
   "metadata": {},
   "source": [
    "Now some work for you to do. Compare the NMF categorization to the original categories from the Brown Corpus.\n",
    "\n",
    "We are interested in the extent to which our NMF factorization agrees or disagrees with the original categories in the corpus. For each topic in your NMF model, tally the Brown categories and interpret the results. \n"
   ]
  },
  {
   "cell_type": "code",
   "execution_count": 42,
   "id": "58d942c4",
   "metadata": {},
   "outputs": [
    {
     "name": "stdout",
     "output_type": "stream",
     "text": [
      "category   editorial  government  hobbies  news  romance\n",
      "nmf_topic                                               \n",
      "0                 21           5        1     8        0\n",
      "1                  5           0       10     0       29\n",
      "2                  0           0        1    18        0\n",
      "3                  1          25       22     9        0\n",
      "4                  0           0        2     9        0\n"
     ]
    }
   ],
   "source": [
    "# Add NMF topic assignments to the DataFrame using the maximum topic weight for each article in the document-topic matrix\n",
    "# https://www.geeksforgeeks.org/numpy-argmax-python/ \n",
    "df['nmf_topic'] = np.argmax(W_text_matrix, axis=1)\n",
    "\n",
    "# Compare NMF topics vs. original categories\n",
    "cross_tab_nmf_original = pd.crosstab(df['nmf_topic'], df['category'])\n",
    "print(cross_tab_nmf_original)"
   ]
  },
  {
   "attachments": {},
   "cell_type": "markdown",
   "id": "f8d4e2bc",
   "metadata": {},
   "source": [
    "Q: How does your five-topic NMF model compare to the original Brown categories? \n",
    "\n",
    "A: The five-topic NMF model agrees a decent amount with the Brown corpus categories, with some topics being more closely associated with a specific category than others. Out of the 27 editorial articles, 21 (77.8%) of them were placed in our model's Topic 00. For the government articles, 25 of the 30 (83.3%) were placed in the same topic 03. All of the romance articles were assigned to the same Topic 01. For news, the assignments were more spread out, although there was a clear topic that stood out still with 18 out of 44 (40.9%) being in Topic 02. The hobbies articles had two main topics they were categorized into which were Topic 01 (27.8%) and Topic 03 (61.1%). These topics seem overall well-defined and do a good job at grouping articles that should be related together. However, in a case like Topic 03, it might get the majority of articles from multiple true categories which can make it hard to categorize from the model. \n",
    "\n",
    "Topic 00: mainly editorial articles woith some news articles\n",
    "\n",
    "Topic 01: mainly romance articles with some hobbies and editorial articles\n",
    "\n",
    "Topic 02: strong association with news articles\n",
    "\n",
    "Topic 03: mix of government and hobbies articles with some news as well\n",
    "\n",
    "Topic 04: mainly news articles with a couple hobbies articles"
   ]
  },
  {
   "cell_type": "markdown",
   "id": "82e37cb5",
   "metadata": {},
   "source": [
    "## Fitting an LSA Model\n",
    "\n",
    "In this section, follow the example from the repository and fit an LSA model (called a \"TruncatedSVD\" in `sklearn`). Again fit a five-topic model and compare it to the actual categories in the Brown corpus. Use the TF-IDF vectors for your fit, as above. \n",
    "\n",
    "To be explicit, we are once again interested in the extent to which this LSA factorization agrees or disagrees with the original categories in the corpus. For each topic in your model, tally the Brown categories and interpret the results. \n"
   ]
  },
  {
   "cell_type": "code",
   "execution_count": 40,
   "id": "00b53d3d",
   "metadata": {},
   "outputs": [],
   "source": [
    "svd_text_model = TruncatedSVD(n_components=5, random_state=315)\n",
    "W_svd_text_matrix = svd_text_model.fit_transform(tfidf_text_vectors)\n",
    "H_svd_text_matrix = svd_text_model.components_"
   ]
  },
  {
   "cell_type": "code",
   "execution_count": 41,
   "id": "29508f0c",
   "metadata": {},
   "outputs": [],
   "source": [
    "assert W_svd_text_matrix.shape == (166, 5), f\"Expected shape (166, 5), but got {W_svd_text_matrix.shape}\"\n",
    "assert H_svd_text_matrix.shape == (5, 5073), f\"Expected shape (5, 5073), but got {H_svd_text_matrix.shape}\""
   ]
  },
  {
   "cell_type": "code",
   "execution_count": 45,
   "id": "010b1392",
   "metadata": {},
   "outputs": [
    {
     "name": "stdout",
     "output_type": "stream",
     "text": [
      "category   editorial  government  hobbies  news  romance\n",
      "lsa_topic                                               \n",
      "0                 27          19       30    33       25\n",
      "1                  0          10        0     0        4\n",
      "2                  0           1        6     3        0\n",
      "3                  0           0        0     1        0\n",
      "4                  0           0        0     7        0\n"
     ]
    }
   ],
   "source": [
    "# Add LSA topic assignments to the DataFrame using the maximum topic weight for each article in the document-topic matrix\n",
    "# https://www.geeksforgeeks.org/numpy-argmax-python/ \n",
    "df['lsa_topic'] = np.argmax(np.abs(W_svd_text_matrix), axis=1)\n",
    "\n",
    "# Compare LSA topics vs. original categories\n",
    "cross_tab_lsa_original = pd.crosstab(df['lsa_topic'], df['category'])\n",
    "print(cross_tab_lsa_original)"
   ]
  },
  {
   "attachments": {},
   "cell_type": "markdown",
   "id": "4d94d56f",
   "metadata": {},
   "source": [
    "Q: How does your five-topic LSA model compare to the original Brown categories? \n",
    "\n",
    "A: The five-topic LSA model does not do nearly as good of a job at separating the texts into categories as it assigns the vast majority within each true category all to Topic 00. This highly assigned topic appears to be very general while some of the others do not have many articles but are more well defined. Topic 01 is mostly related to government and romance while Topic 02 is focused on government, hobbies, and news. Topic 04 has strong relevance to news. Topic 03 only has one article assignment which suggests it may be a subtopic of hobbies. "
   ]
  },
  {
   "cell_type": "code",
   "execution_count": 47,
   "id": "377a886e",
   "metadata": {},
   "outputs": [
    {
     "name": "stdout",
     "output_type": "stream",
     "text": [
      "\n",
      "Topic 00\n",
      "  said (0.41)\n",
      "  mr (0.23)\n",
      "  mrs (0.20)\n",
      "  state (0.19)\n",
      "  man (0.16)\n",
      "\n",
      "Topic 01\n",
      "  said (3.71)\n",
      "  thought (2.13)\n",
      "  back (1.91)\n",
      "  got (1.90)\n",
      "  looked (1.76)\n",
      "\n",
      "Topic 02\n",
      "  mrs (4.60)\n",
      "  mr (1.95)\n",
      "  said (1.49)\n",
      "  jr (0.89)\n",
      "  jury (0.84)\n",
      "\n",
      "Topic 03\n",
      "  khrushchev (3.00)\n",
      "  berlin (2.35)\n",
      "  soviet (2.22)\n",
      "  kennedy (2.16)\n",
      "  laos (2.00)\n",
      "\n",
      "Topic 04\n",
      "  game (5.38)\n",
      "  league (3.82)\n",
      "  baseball (3.79)\n",
      "  ball (3.69)\n",
      "  team (3.41)\n"
     ]
    }
   ],
   "source": [
    "display_topics(svd_text_model, tfidf_text_vectorizer.get_feature_names_out())"
   ]
  },
  {
   "attachments": {},
   "cell_type": "markdown",
   "id": "ea8b280a",
   "metadata": {},
   "source": [
    "Q: What is your interpretation of the display topics output? \n",
    "\n",
    "A: Based on the low values of the words in Topic 00, they do not have great contribution to making a clearly defined topic which makes sense as its articles are spead out amongst the categories when applying the model. The individual contributions of \"said\" and \"thought\" are high for Topic 01 which houses government and romance articles. This makes sense as those words often appear in these writing styles. Topic 02 has a fairly steep drop-off which suggests a strongly defined category, although the words with high contributions do not tell us much. The largely contributing words in Topic 03 suggest a well-defined Cold War topic. Topic 04 has clear association to sports as it only refers to games and baseball related words. "
   ]
  },
  {
   "cell_type": "markdown",
   "id": "b4ab4d29",
   "metadata": {},
   "source": [
    "## Fitting an LDA Model\n",
    "\n",
    "Finally, fit a five-topic LDA model using the count vectors (`count_text_vectors` from above). Display the results using `pyLDAvis.display` and describe what you learn from that visualization. "
   ]
  },
  {
   "cell_type": "code",
   "execution_count": 52,
   "id": "802cb8ff",
   "metadata": {},
   "outputs": [],
   "source": [
    "lda_text_model = LatentDirichletAllocation(n_components = 5, random_state=42)\n",
    "W_lda_text_matrix = lda_text_model.fit_transform(count_text_vectors)\n",
    "H_lda_text_matrix = lda_text_model.components_"
   ]
  },
  {
   "cell_type": "code",
   "execution_count": 53,
   "id": "ab18adf5",
   "metadata": {},
   "outputs": [
    {
     "name": "stdout",
     "output_type": "stream",
     "text": [
      "\n",
      "Topic 00\n",
      "  may (0.89)\n",
      "  state (0.87)\n",
      "  states (0.73)\n",
      "  use (0.57)\n",
      "  united (0.54)\n",
      "\n",
      "Topic 01\n",
      "  mrs (1.37)\n",
      "  feed (0.70)\n",
      "  per (0.49)\n",
      "  house (0.44)\n",
      "  pool (0.41)\n",
      "\n",
      "Topic 02\n",
      "  mr (0.60)\n",
      "  president (0.51)\n",
      "  american (0.44)\n",
      "  world (0.42)\n",
      "  united (0.40)\n",
      "\n",
      "Topic 03\n",
      "  said (1.31)\n",
      "  state (0.60)\n",
      "  000 (0.54)\n",
      "  business (0.54)\n",
      "  sales (0.44)\n",
      "\n",
      "Topic 04\n",
      "  said (1.24)\n",
      "  back (0.60)\n",
      "  old (0.50)\n",
      "  little (0.49)\n",
      "  man (0.45)\n"
     ]
    }
   ],
   "source": [
    "display_topics(lda_text_model, count_text_vectorizer.get_feature_names_out())"
   ]
  },
  {
   "cell_type": "code",
   "execution_count": 59,
   "id": "8762951b",
   "metadata": {},
   "outputs": [],
   "source": [
    "assert W_lda_text_matrix.shape == (166, 5), f\"Expected shape (166, 5), but got {W_lda_text_matrix.shape}\"\n",
    "assert H_lda_text_matrix.shape == (5, 5073), f\"Expected shape (5, 5073), but got {H_lda_text_matrix.shape}\""
   ]
  },
  {
   "cell_type": "code",
   "execution_count": 54,
   "id": "dfa9908a",
   "metadata": {},
   "outputs": [
    {
     "name": "stdout",
     "output_type": "stream",
     "text": [
      "category   editorial  government  hobbies  news  romance\n",
      "lda_topic                                               \n",
      "0                  0          15       11     0        0\n",
      "1                  1           1       10     5        0\n",
      "2                 22           9        8    14        0\n",
      "3                  0           5        2    17        0\n",
      "4                  4           0        5     8       29\n"
     ]
    }
   ],
   "source": [
    "df['lda_topic'] = np.argmax(W_lda_text_matrix, axis=1)\n",
    "\n",
    "# Compare LDA topics vs. original categories\n",
    "cross_tab_lda_original = pd.crosstab(df['lda_topic'], df['category'])\n",
    "print(cross_tab_lda_original)"
   ]
  },
  {
   "attachments": {},
   "cell_type": "markdown",
   "id": "f2c67876",
   "metadata": {},
   "source": [
    "Q: What inference do you draw from the displayed topics for your LDA model? \n",
    "\n",
    "A: As compared to NMF, this LDA model does not appeart to have as clear or strong of main topics. This is likely due to the process of Latent Dirichlet Allocations focusing on different topics within documents. Topic 00 seems to be United States speeches related. Topic 01 is not clear although it may be discussing family life. Topic 02 is about world relations as it pertains to the United States. Topic 03 is not well defined although it may be about dialogue. Topic 04 also does not appear to be well defined. \n",
    "\n",
    "Q: Repeat the tallying of Brown categories within your topics. How does your five-topic LDA model compare to the original Brown categories? \n",
    "\n",
    "A: As we expected with many of the topics not being well defined, they each have a good amount of articles from several true categories. Topic 00 has the majority of its texts as government articles which confirms our suggestion that it might be about United States speeches. Topic 01 is mainly hobbies related which is pretty simialr to pur family life suggestion. Topic 02 is very spread out which was not expected as it seemed very United States world relations focused. Topic 03 is mostly news articles which alligns with our dialogue interpretation. Lastly, Topic 04 is mainly romance articles although it has a good number from editorial, hobbies, and news articles. "
   ]
  },
  {
   "cell_type": "code",
   "execution_count": 57,
   "id": "6aae75ca",
   "metadata": {},
   "outputs": [],
   "source": [
    "lda_display = pyLDAvis.lda_model.prepare(lda_text_model, count_text_vectors, count_text_vectorizer, sort_topics=False)"
   ]
  },
  {
   "cell_type": "code",
   "execution_count": 58,
   "id": "2a89fc15",
   "metadata": {},
   "outputs": [
    {
     "data": {
      "text/html": [
       "\n",
       "<link rel=\"stylesheet\" type=\"text/css\" href=\"https://cdn.jsdelivr.net/gh/bmabey/pyLDAvis@3.4.0/pyLDAvis/js/ldavis.v1.0.0.css\">\n",
       "\n",
       "\n",
       "<div id=\"ldavis_el152141404408924933768465930470\" style=\"background-color:white;\"></div>\n",
       "<script type=\"text/javascript\">\n",
       "\n",
       "var ldavis_el152141404408924933768465930470_data = {\"mdsDat\": {\"x\": [0.16838395984513108, -0.060162394169651676, 9.901136730282992e-05, 0.09209332804500217, -0.20041390508778442], \"y\": [-0.030984848267225803, -0.16282065713919253, 0.061276233031372716, 0.07513083566791588, 0.05739843670712984], \"topics\": [1, 2, 3, 4, 5], \"cluster\": [1, 1, 1, 1, 1], \"Freq\": [17.551053339232055, 9.298680436983844, 30.72381361228768, 16.540749085664004, 25.885703525832408]}, \"tinfo\": {\"Term\": [\"said\", \"mrs\", \"state\", \"states\", \"united\", \"feed\", \"may\", \"tax\", \"per\", \"fiscal\", \"sales\", \"president\", \"development\", \"back\", \"shall\", \"000\", \"use\", \"got\", \"business\", \"mr\", \"house\", \"company\", \"pool\", \"court\", \"program\", \"million\", \"used\", \"little\", \"mother\", \"old\", \"ratio\", \"objectives\", \"rico\", \"puerto\", \"thickness\", \"measurements\", \"quantity\", \"thereof\", \"measurement\", \"determining\", \"boats\", \"fiscal\", \"limitations\", \"transport\", \"operational\", \"respectively\", \"drill\", \"facility\", \"appropriated\", \"fig\", \"af\", \"comprehensive\", \"ample\", \"location\", \"minimize\", \"lever\", \"towns\", \"file\", \"advantages\", \"involves\", \"clay\", \"minimum\", \"determine\", \"tool\", \"rhode\", \"shall\", \"site\", \"boat\", \"india\", \"interference\", \"stations\", \"recreation\", \"medical\", \"available\", \"payment\", \"property\", \"pieces\", \"purposes\", \"development\", \"states\", \"use\", \"may\", \"state\", \"act\", \"section\", \"inch\", \"planning\", \"used\", \"tax\", \"amount\", \"united\", \"island\", \"local\", \"system\", \"service\", \"cost\", \"water\", \"must\", \"government\", \"program\", \"number\", \"department\", \"area\", \"000\", \"panels\", \"feed\", \"fruit\", \"jane\", \"oriental\", \"installation\", \"entertain\", \"cattle\", \"cooled\", \"artist\", \"rated\", \"spice\", \"chef\", \"painter\", \"builder\", \"cooling\", \"foundation\", \"gate\", \"palace\", \"patterned\", \"cream\", \"lumber\", \"painted\", \"artists\", \"plastic\", \"temple\", \"column\", \"salt\", \"heating\", \"entrance\", \"roof\", \"signs\", \"pool\", \"chemical\", \"mrs\", \"designs\", \"materials\", \"design\", \"outdoor\", \"daily\", \"sign\", \"heat\", \"engineer\", \"wall\", \"per\", \"oil\", \"handling\", \"built\", \"house\", \"add\", \"level\", \"men\", \"work\", \"best\", \"less\", \"way\", \"name\", \"good\", \"side\", \"may\", \"board\", \"head\", \"water\", \"home\", \"much\", \"high\", \"use\", \"used\", \"right\", \"soviet\", \"nations\", \"khrushchev\", \"berlin\", \"junior\", \"faculty\", \"laos\", \"rayburn\", \"congo\", \"cuba\", \"russian\", \"moscow\", \"russia\", \"academic\", \"communism\", \"fallout\", \"castro\", \"premier\", \"shelter\", \"communists\", \"editorial\", \"democrats\", \"independence\", \"katanga\", \"cuban\", \"nuclear\", \"communist\", \"bombs\", \"africa\", \"teachers\", \"corps\", \"crisis\", \"peace\", \"political\", \"speaker\", \"china\", \"kennedy\", \"editor\", \"east\", \"students\", \"president\", \"student\", \"college\", \"war\", \"american\", \"question\", \"mr\", \"world\", \"members\", \"schools\", \"united\", \"people\", \"west\", \"country\", \"committee\", \"public\", \"party\", \"must\", \"may\", \"states\", \"us\", \"week\", \"government\", \"great\", \"state\", \"today\", \"university\", \"national\", \"program\", \"last\", \"man\", \"school\", \"day\", \"service\", \"city\", \"motors\", \"atlanta\", \"stockholders\", \"farmers\", \"wildlife\", \"payroll\", \"bid\", \"superintendent\", \"hughes\", \"jury\", \"acres\", \"jones\", \"police\", \"bankers\", \"corp\", \"commissioner\", \"ruling\", \"spokesman\", \"bond\", \"exempt\", \"pension\", \"bonds\", \"acre\", \"conspiracy\", \"textile\", \"attorneys\", \"inventories\", \"consumer\", \"shares\", \"davis\", \"stocks\", \"retail\", \"sales\", \"dallas\", \"court\", \"machinery\", \"automobile\", \"driver\", \"billion\", \"corporation\", \"company\", \"traffic\", \"farm\", \"hospital\", \"million\", \"industry\", \"business\", \"cent\", \"trust\", \"equipment\", \"market\", \"said\", \"county\", \"texas\", \"000\", \"general\", \"stock\", \"tax\", \"management\", \"production\", \"1959\", \"state\", \"city\", \"federal\", \"plan\", \"1960\", \"bill\", \"per\", \"national\", \"mr\", \"last\", \"president\", \"government\", \"10\", \"program\", \"1961\", \"home\", \"small\", \"ball\", \"player\", \"baseball\", \"hair\", \"baby\", \"clothes\", \"nice\", \"yards\", \"cousin\", \"susan\", \"yankees\", \"pink\", \"smiled\", \"mother\", \"guy\", \"beside\", \"tiny\", \"vernon\", \"charlie\", \"waited\", \"dave\", \"shoes\", \"rain\", \"pair\", \"fingers\", \"hell\", \"hits\", \"horses\", \"pittsburgh\", \"luck\", \"sat\", \"runs\", \"boy\", \"drove\", \"looked\", \"birds\", \"got\", \"game\", \"walked\", \"straight\", \"thought\", \"went\", \"team\", \"games\", \"woman\", \"knew\", \"eyes\", \"back\", \"turned\", \"seemed\", \"little\", \"came\", \"room\", \"old\", \"sun\", \"said\", \"know\", \"never\", \"something\", \"around\", \"away\", \"night\", \"door\", \"man\", \"get\", \"go\", \"left\", \"good\", \"look\", \"come\", \"way\", \"home\", \"last\", \"day\", \"much\", \"see\", \"still\", \"right\", \"three\", \"take\"], \"Freq\": [792.0, 299.0, 488.0, 334.0, 302.0, 94.0, 485.0, 176.0, 213.0, 110.0, 117.0, 296.0, 200.0, 287.0, 127.0, 281.0, 254.0, 147.0, 210.0, 387.0, 230.0, 139.0, 76.0, 107.0, 232.0, 129.0, 191.0, 238.0, 97.0, 253.0, 19.277944107510045, 18.322962546431967, 19.142123403935326, 19.141643338024295, 13.551974110883139, 12.597484108017825, 13.490052861942877, 11.645908176270229, 11.64371756711216, 11.633273712737363, 36.57714813041914, 102.96169242283449, 9.731975561633693, 8.780365617732922, 8.771106740574735, 8.75959499481647, 30.68224954140759, 7.818855372401457, 7.814357635463514, 28.669731480212803, 67.3891219906261, 6.86823427109386, 6.868117056725567, 26.434503378361025, 7.675062629658037, 14.465438877392968, 30.603490391208243, 45.941629601425575, 12.717046524107717, 5.916346648420144, 70.6769288925082, 29.670346534072436, 42.18302094787804, 26.34607715120363, 70.80192785519814, 101.3813742190005, 43.33898902601915, 35.26538733329247, 31.268462751413416, 30.32900429189233, 47.60012562436331, 30.175325014321565, 76.41672132633214, 86.93875191903962, 33.73635822937789, 67.65663493710238, 40.74239702693612, 34.287218032124684, 121.45620087295374, 174.7826885583697, 135.9110347498507, 212.65818043106128, 209.25700619054652, 78.02281115152357, 54.906798157485184, 47.405370723898464, 55.379224199165414, 97.18150850829683, 91.1419167376195, 54.316798277507054, 128.6680554257865, 67.40899301610999, 69.15934244538276, 66.33702251646845, 79.38403007215854, 59.407476742362, 68.36115821245009, 89.7987192276436, 83.74535505241921, 75.19069400405428, 60.44231644509981, 62.795322625243685, 60.25429038666901, 62.95938355631256, 31.427097539216078, 88.84528047520367, 10.458310459246688, 8.605970824013683, 7.675120072823749, 7.674103053470207, 7.670951566905892, 18.686861730607156, 5.799538502677141, 14.862504443011675, 6.599422675539923, 6.532565976820863, 5.648741734644353, 9.653361923256742, 20.85410907014039, 31.203304021350295, 27.89408089488915, 9.53748043630687, 14.271475711744063, 4.752608546597107, 10.27474821487457, 24.39797272327813, 14.106264925403156, 13.316445972048376, 21.028062463744753, 15.544434323138107, 13.846751913646518, 15.346280568553379, 17.602027512044618, 17.65271137072829, 23.542409765211975, 27.494518526655646, 51.704682033060976, 20.68987097829306, 173.83015842314455, 14.997571297330671, 31.65972265270161, 42.626612058650025, 15.553103372319455, 32.09893960504205, 33.59362675114453, 25.74480744309388, 21.644285464276173, 34.61322256524715, 61.68294748727591, 22.605499944006187, 17.424420575709966, 22.743538070971223, 56.40866593882092, 24.670552148678212, 30.408212681711834, 43.98376655517876, 47.440466336632106, 34.054142782056395, 33.16557159112442, 40.59105514515019, 28.066855318080723, 38.625475098035615, 29.818013332403687, 42.4019708127437, 32.53335867258998, 30.485622323974106, 30.803131719446124, 33.37347864733307, 31.968684939588652, 30.563451763577184, 30.976411070702515, 29.744940996471456, 29.124733028610194, 79.96078201152781, 78.96396689699232, 72.17961119401747, 64.39044304500244, 64.31556423604403, 52.704481359335034, 49.80390686016715, 45.91392657343291, 42.87458259098468, 37.15729469204943, 36.18216299585728, 37.13243813130698, 43.66734485843557, 29.375661189553146, 28.394139714993294, 30.245744512180313, 29.26091478434385, 24.501419754129337, 58.38288189236121, 23.53976647325764, 23.539187456731796, 23.53883717256023, 28.240955716861112, 19.648930376158987, 20.565879275358313, 75.625247160642, 70.97040175216495, 18.66835017845791, 17.701567539601683, 33.54566151499761, 72.97611557715389, 28.741064388668207, 101.47126818107722, 76.31012676050689, 39.06896238508931, 32.194553444746575, 111.24761975589519, 47.672375832354, 81.63115753477285, 63.01665630957425, 214.80659655446186, 64.52201475953831, 99.53858002601407, 113.61618435031461, 186.50962091815964, 70.60839920774531, 252.60184005884943, 175.8705753676503, 105.8441935325956, 73.54807236695427, 167.8929801684589, 148.42102796866135, 79.12631019229553, 96.65338231712389, 80.76276044256788, 113.81595074878335, 77.93346642063082, 136.7588976137163, 164.497608933703, 136.21223835160373, 94.97156116096876, 99.91203823833888, 116.64376288763583, 99.57860610970579, 136.1030797630125, 89.66860706372921, 82.44847566892469, 94.42425408567422, 94.87313703526448, 99.8592628909119, 96.01379428682372, 87.45912062711398, 91.95695682850956, 82.58121407406772, 82.50681285756966, 45.1823862315131, 22.199044960419556, 20.292086109447258, 17.41477226361706, 16.460757204165848, 14.54815274473029, 13.582619513532588, 12.63336038053269, 23.436149501792936, 44.99423129787781, 29.661932944438092, 28.683048479200533, 42.934992353675945, 10.721230392017478, 10.712697887682769, 15.153592558502718, 9.742242939046486, 8.805884862149558, 13.212011033706293, 8.80315342469655, 8.802343291540133, 29.807039427505238, 7.842506051333739, 16.40449720773562, 25.862861107476714, 6.889738763977011, 6.887527460206471, 17.9250359700673, 33.1602750008833, 11.904971552236177, 13.585671718432415, 15.226731351120266, 99.61911968317834, 48.84186584443643, 85.9612789795822, 28.507614336093344, 20.69153453368026, 24.213438199422956, 43.3464645789954, 27.661873617735978, 97.30780418759987, 32.98185363316771, 31.294918129869696, 48.13774726040224, 83.89743006369324, 65.30491732991467, 121.31111446444028, 52.32368974281114, 30.209400799133604, 66.45789246481908, 60.93680232221822, 294.61897339615473, 63.86240701764113, 41.19601221422889, 121.45317388377606, 94.79001945861098, 49.251557173029056, 84.53661563680339, 50.31866009394092, 50.29152103296991, 41.78645466256848, 136.53855552137966, 83.4719896509719, 58.54079078319931, 59.14520293715402, 61.2495444799131, 51.61330879486445, 75.22650151975824, 73.7050647328083, 82.29075128951018, 76.83537851502427, 68.16087199840204, 66.89399782013689, 56.47495161429256, 61.55665434580761, 52.21687729666573, 54.8669402348866, 52.26052766592847, 62.61624515243461, 47.989912123377415, 39.208834895889055, 35.30821023286348, 35.30327717894675, 32.270325795317746, 27.499122652478484, 26.527438841453616, 26.524733940603944, 26.505382663643548, 25.548105667639653, 25.543629198910285, 26.42366257905692, 94.31090599407415, 22.618802329228355, 21.646220912849262, 20.652513385760873, 19.665363724752336, 18.725875906750026, 18.72561445598101, 18.724055859777653, 18.705547848542643, 18.704740514107627, 17.73320613267361, 17.724153573893954, 15.801037823180474, 15.79434236286064, 15.78771361575288, 15.776984162335404, 15.770507813584468, 36.16557756795984, 38.68949153241466, 77.42260056560015, 17.622892588095883, 78.50611436968275, 30.169294529424857, 130.63422515540287, 81.96724303587706, 44.07731522742598, 41.47611571728715, 120.7793932926501, 118.2044465429735, 51.95523404766519, 29.25286139202557, 50.20220706883415, 78.29173946030222, 82.97425457510812, 213.4814623114421, 66.77455374721715, 63.63586202040277, 173.3359899075401, 122.23757281546206, 82.42016357236237, 177.07408666634205, 47.59142491743631, 436.6464348290185, 132.28259921056448, 135.04543935531504, 86.46082764876284, 112.65759528141183, 89.83397516876366, 102.31299125049902, 57.76184381326733, 160.2490323676624, 145.74586496279676, 119.20538794652948, 107.0005912367981, 156.66154197908077, 88.8620521777041, 107.2730881804492, 129.94529523908366, 126.24056925978255, 131.29285075156284, 126.3467339784915, 116.5111900060055, 107.44635362880044, 102.3835411348362, 98.16664810280076, 94.00588145702218, 91.5715365053285], \"Total\": [792.0, 299.0, 488.0, 334.0, 302.0, 94.0, 485.0, 176.0, 213.0, 110.0, 117.0, 296.0, 200.0, 287.0, 127.0, 281.0, 254.0, 147.0, 210.0, 387.0, 230.0, 139.0, 76.0, 107.0, 232.0, 129.0, 191.0, 238.0, 97.0, 253.0, 20.051081518916313, 19.096459092199524, 20.05357773990979, 20.053586914105214, 14.323467119094934, 13.368852487700904, 14.324700756500434, 12.414311160698361, 12.414324935760387, 12.41448072517095, 39.159090675553024, 110.81433660625557, 10.505199708572595, 9.5505421056438, 9.550745642641456, 9.550930092886807, 33.455409691609646, 8.595961631708262, 8.596210372272425, 31.550965670811696, 74.34173575558627, 7.641441298974113, 7.641427211597226, 29.58581073203818, 8.598109544204133, 16.235569869619404, 34.404437800465516, 51.65074919897163, 14.339411864027255, 6.686805407472202, 81.21991759154486, 34.444433680640905, 49.73882969395157, 30.569180021336503, 86.01759921608368, 127.3815533780594, 52.42328098829522, 42.13242627566583, 37.28640564837863, 36.31250480704719, 59.39511458072097, 36.3804616544857, 101.26629054284992, 120.40512068546934, 42.02805897545592, 95.58603803038547, 52.66252140441027, 42.978303854668624, 200.36295452717485, 334.8394918218564, 254.65594837780387, 485.93889759932455, 488.7909989333047, 131.36749186144428, 82.97713471692474, 67.77740489843184, 85.17981283146156, 191.57207160688284, 176.85628921613008, 83.28760805294888, 302.92097795268126, 119.83160889774936, 129.4602920710662, 143.03689995777708, 206.01087927825358, 116.17977987062577, 161.8720468044928, 329.23445606985484, 276.46286927412024, 232.00667287973266, 136.92020625815462, 157.6133997490581, 146.13781357381757, 281.13825964073857, 32.805182509998446, 94.76753986818144, 11.259631548665663, 9.386260943734573, 8.449803065667975, 8.44980830289999, 8.449972449377444, 20.667307978843702, 6.577254534327366, 16.924684547791365, 7.51836899718701, 7.52138828827492, 6.583187168736787, 11.290457586013765, 24.448206459249867, 36.69751621566102, 32.908363688102256, 11.27723059050893, 16.94439853539486, 5.645558814844763, 12.242868377250108, 29.192302905118492, 16.956917442139893, 16.01307989580223, 25.4427504788683, 18.843706059972952, 16.950079113655597, 18.8394584342002, 21.620114799924437, 21.68725412940716, 29.236274938016095, 35.84718512939129, 76.39596219443901, 27.301669938714575, 299.7316256469208, 19.78987210547472, 51.051353699888296, 74.79350713600546, 20.785290321185283, 53.158469439236484, 56.86611928043359, 41.68210100394412, 33.045942463573624, 65.65354462578179, 213.2417597825374, 39.74311387025544, 25.49962036250459, 41.741411791484275, 230.6840899348369, 49.46161707307336, 83.70703529527873, 192.672154216763, 258.5077299220562, 138.57548900337227, 134.20053188044102, 274.4835600776362, 85.50975484985081, 307.54783132123714, 114.30142544222329, 485.93889759932455, 174.29895974765802, 134.86353283420402, 161.8720468044928, 265.51713451371205, 280.20901306558414, 218.49459455576192, 254.65594837780387, 191.57207160688284, 213.5140031576666, 80.72716854132723, 79.75399688608243, 72.94495041137553, 65.16259440276231, 65.1600215447845, 53.48899425447178, 50.57099907891622, 46.67989675372971, 43.759640911595945, 37.92485593209076, 36.95205624033603, 37.924451647961185, 44.72956212653712, 30.142615870587093, 29.169684783283213, 31.111596778827007, 30.140816655128308, 25.278566439869753, 60.28004882176252, 24.30596750685772, 24.305948087187353, 24.30595507985288, 29.166812184331675, 20.414856668215304, 21.38670189324414, 78.73691126944323, 73.90227915386888, 19.44184992521198, 18.469251773014154, 35.008367749673305, 76.7970905884191, 30.132646996504906, 110.88630153517009, 83.54001192027994, 41.7845507406908, 34.03665998105064, 131.00527193047404, 52.50995569112879, 95.1405922564415, 71.79139211409938, 296.3168679341066, 74.81185191758581, 125.43605545952018, 146.6035408356364, 263.8046797995006, 84.51397948335382, 387.31042145043756, 256.07578785185154, 141.2593213726413, 92.15316642116242, 302.92097795268126, 265.90575413242095, 106.61910990333865, 145.10270252905053, 110.41714435257546, 201.71295088755556, 108.55499075071575, 329.23445606985484, 485.93889759932455, 334.8394918218564, 165.30555694524614, 189.3961207150768, 276.46286927412024, 202.36983780863125, 488.7909989333047, 159.27882129593655, 124.65120663175972, 215.10057726055635, 232.00667287973266, 327.3281064715791, 281.84367988860083, 172.20760264166776, 302.7207773483457, 206.01087927825358, 214.21795438778958, 45.95391266141085, 22.978085260432024, 21.063312977767154, 18.191273710692993, 17.233939057935853, 15.31928463788372, 14.36209316022313, 13.40462357783182, 24.903597167501506, 47.908342530466676, 31.6156748913895, 30.658450300505965, 45.99018258504975, 11.48994703110407, 11.489919788735826, 16.283301204190415, 10.533009129831468, 9.575280494744577, 14.368091382926682, 9.575279649754238, 9.575275148597905, 32.55505480634936, 8.61784949103496, 18.210456212127152, 28.71924401128436, 7.660647485636763, 7.660581313113948, 20.075178822303965, 37.33791842268008, 13.41608371832577, 15.31650306853785, 17.206901223084394, 117.78193044587981, 58.38951553085499, 107.35041785108137, 33.56067958078843, 23.928572562097113, 28.682924502366326, 54.73855456696159, 33.49169027225836, 139.00159379789665, 41.26278864685202, 39.37564393313924, 66.27446048442677, 129.60953072072343, 96.49175917243313, 210.51067817545075, 75.0295541374824, 38.41352489954308, 104.93760651666211, 95.75196016951055, 792.985058009486, 103.918286549626, 58.64891656409856, 281.13825964073857, 200.93729594069592, 77.70758049646844, 176.85628921613008, 84.85746188900633, 84.99927984318029, 63.237435457314284, 488.7909989333047, 214.21795438778958, 114.03337126125183, 119.59335945186848, 129.46840445983142, 92.61426235089152, 213.2417597825374, 215.10057726055635, 387.31042145043756, 327.3281064715791, 296.3168679341066, 276.46286927412024, 145.3956620235902, 232.00667287973266, 115.04750768633451, 265.51713451371205, 210.47397657397278, 63.38590079531267, 48.7547440591407, 39.975953683338616, 36.07425129479085, 36.074165945109996, 33.14357711942875, 28.27084109952747, 27.295468056535256, 27.295392537458362, 27.29536319818839, 26.320030272277606, 26.3197634821388, 27.295260294881807, 97.43754095356545, 23.39363161654383, 22.41832850758647, 21.442768712883634, 20.46680919945555, 19.492189360335036, 19.492184206042417, 19.49214677180325, 19.492079893692456, 19.491776427422383, 18.51622922357536, 18.51611461586254, 16.5659432647231, 16.565767289590394, 16.565653381814702, 16.565709261886024, 16.565713750912018, 38.0220242848108, 40.8939663099292, 82.77717746901209, 18.514362546986273, 85.68908967000836, 32.16452621198169, 147.07508496597882, 90.55631777943023, 47.66156814860502, 44.79478683038127, 140.18708790498152, 137.3375978353524, 57.43461917970468, 31.19393038180769, 55.56982954802086, 90.53228125886183, 98.27147165506466, 287.3172943076555, 78.8846898177853, 75.01920021521818, 238.35476717379277, 162.31875746118183, 102.85511294744633, 253.70361627666435, 54.51755361229263, 792.985058009486, 191.60457525415546, 197.5190754468358, 114.97533298326917, 164.02569805426117, 123.41542226413958, 151.34023899215921, 69.9080159186351, 281.84367988860083, 248.800005007849, 188.41704188192523, 162.1010935401206, 307.54783132123714, 130.07153760032486, 185.40498716258548, 274.4835600776362, 265.51713451371205, 327.3281064715791, 302.7207773483457, 280.20901306558414, 229.47458327864564, 204.31414902729887, 213.5140031576666, 249.0484085897402, 233.16954320074973], \"Category\": [\"Default\", \"Default\", \"Default\", \"Default\", \"Default\", \"Default\", \"Default\", \"Default\", \"Default\", \"Default\", \"Default\", \"Default\", \"Default\", \"Default\", \"Default\", \"Default\", \"Default\", \"Default\", \"Default\", \"Default\", \"Default\", \"Default\", \"Default\", \"Default\", \"Default\", \"Default\", \"Default\", \"Default\", \"Default\", \"Default\", \"Topic1\", \"Topic1\", \"Topic1\", \"Topic1\", \"Topic1\", \"Topic1\", \"Topic1\", \"Topic1\", \"Topic1\", \"Topic1\", \"Topic1\", \"Topic1\", \"Topic1\", \"Topic1\", \"Topic1\", \"Topic1\", \"Topic1\", \"Topic1\", \"Topic1\", \"Topic1\", \"Topic1\", \"Topic1\", \"Topic1\", \"Topic1\", \"Topic1\", \"Topic1\", \"Topic1\", \"Topic1\", \"Topic1\", \"Topic1\", \"Topic1\", \"Topic1\", \"Topic1\", \"Topic1\", \"Topic1\", \"Topic1\", \"Topic1\", \"Topic1\", \"Topic1\", \"Topic1\", \"Topic1\", \"Topic1\", \"Topic1\", \"Topic1\", \"Topic1\", \"Topic1\", \"Topic1\", \"Topic1\", \"Topic1\", \"Topic1\", \"Topic1\", \"Topic1\", \"Topic1\", \"Topic1\", \"Topic1\", \"Topic1\", \"Topic1\", \"Topic1\", \"Topic1\", \"Topic1\", \"Topic1\", \"Topic1\", \"Topic1\", \"Topic1\", \"Topic1\", \"Topic1\", \"Topic1\", \"Topic1\", \"Topic1\", \"Topic1\", \"Topic1\", \"Topic1\", \"Topic1\", \"Topic1\", \"Topic2\", \"Topic2\", \"Topic2\", \"Topic2\", \"Topic2\", \"Topic2\", \"Topic2\", \"Topic2\", \"Topic2\", \"Topic2\", \"Topic2\", \"Topic2\", \"Topic2\", \"Topic2\", \"Topic2\", \"Topic2\", \"Topic2\", \"Topic2\", \"Topic2\", \"Topic2\", \"Topic2\", \"Topic2\", \"Topic2\", \"Topic2\", \"Topic2\", \"Topic2\", \"Topic2\", \"Topic2\", \"Topic2\", \"Topic2\", \"Topic2\", \"Topic2\", \"Topic2\", \"Topic2\", \"Topic2\", \"Topic2\", \"Topic2\", \"Topic2\", \"Topic2\", \"Topic2\", \"Topic2\", \"Topic2\", \"Topic2\", \"Topic2\", \"Topic2\", \"Topic2\", \"Topic2\", \"Topic2\", \"Topic2\", \"Topic2\", \"Topic2\", \"Topic2\", \"Topic2\", \"Topic2\", \"Topic2\", \"Topic2\", \"Topic2\", \"Topic2\", \"Topic2\", \"Topic2\", \"Topic2\", \"Topic2\", \"Topic2\", \"Topic2\", \"Topic2\", \"Topic2\", \"Topic2\", \"Topic2\", \"Topic2\", \"Topic3\", \"Topic3\", \"Topic3\", \"Topic3\", \"Topic3\", \"Topic3\", \"Topic3\", \"Topic3\", \"Topic3\", \"Topic3\", \"Topic3\", \"Topic3\", \"Topic3\", \"Topic3\", \"Topic3\", \"Topic3\", \"Topic3\", \"Topic3\", \"Topic3\", \"Topic3\", \"Topic3\", \"Topic3\", \"Topic3\", \"Topic3\", \"Topic3\", \"Topic3\", \"Topic3\", \"Topic3\", \"Topic3\", \"Topic3\", \"Topic3\", \"Topic3\", \"Topic3\", \"Topic3\", \"Topic3\", \"Topic3\", \"Topic3\", \"Topic3\", \"Topic3\", \"Topic3\", \"Topic3\", \"Topic3\", \"Topic3\", \"Topic3\", \"Topic3\", \"Topic3\", \"Topic3\", \"Topic3\", \"Topic3\", \"Topic3\", \"Topic3\", \"Topic3\", \"Topic3\", \"Topic3\", \"Topic3\", \"Topic3\", \"Topic3\", \"Topic3\", \"Topic3\", \"Topic3\", \"Topic3\", \"Topic3\", \"Topic3\", \"Topic3\", \"Topic3\", \"Topic3\", \"Topic3\", \"Topic3\", \"Topic3\", \"Topic3\", \"Topic3\", \"Topic3\", \"Topic3\", \"Topic3\", \"Topic3\", \"Topic4\", \"Topic4\", \"Topic4\", \"Topic4\", \"Topic4\", \"Topic4\", \"Topic4\", \"Topic4\", \"Topic4\", \"Topic4\", \"Topic4\", \"Topic4\", \"Topic4\", \"Topic4\", \"Topic4\", \"Topic4\", \"Topic4\", \"Topic4\", \"Topic4\", \"Topic4\", \"Topic4\", \"Topic4\", \"Topic4\", \"Topic4\", \"Topic4\", \"Topic4\", \"Topic4\", \"Topic4\", \"Topic4\", \"Topic4\", \"Topic4\", \"Topic4\", \"Topic4\", \"Topic4\", \"Topic4\", \"Topic4\", \"Topic4\", \"Topic4\", \"Topic4\", \"Topic4\", \"Topic4\", \"Topic4\", \"Topic4\", \"Topic4\", \"Topic4\", \"Topic4\", \"Topic4\", \"Topic4\", \"Topic4\", \"Topic4\", \"Topic4\", \"Topic4\", \"Topic4\", \"Topic4\", \"Topic4\", \"Topic4\", \"Topic4\", \"Topic4\", \"Topic4\", \"Topic4\", \"Topic4\", \"Topic4\", \"Topic4\", \"Topic4\", \"Topic4\", \"Topic4\", \"Topic4\", \"Topic4\", \"Topic4\", \"Topic4\", \"Topic4\", \"Topic4\", \"Topic4\", \"Topic4\", \"Topic4\", \"Topic4\", \"Topic4\", \"Topic4\", \"Topic5\", \"Topic5\", \"Topic5\", \"Topic5\", \"Topic5\", \"Topic5\", \"Topic5\", \"Topic5\", \"Topic5\", \"Topic5\", \"Topic5\", \"Topic5\", \"Topic5\", \"Topic5\", \"Topic5\", \"Topic5\", \"Topic5\", \"Topic5\", \"Topic5\", \"Topic5\", \"Topic5\", \"Topic5\", \"Topic5\", \"Topic5\", \"Topic5\", \"Topic5\", \"Topic5\", \"Topic5\", \"Topic5\", \"Topic5\", \"Topic5\", \"Topic5\", \"Topic5\", \"Topic5\", \"Topic5\", \"Topic5\", \"Topic5\", \"Topic5\", \"Topic5\", \"Topic5\", \"Topic5\", \"Topic5\", \"Topic5\", \"Topic5\", \"Topic5\", \"Topic5\", \"Topic5\", \"Topic5\", \"Topic5\", \"Topic5\", \"Topic5\", \"Topic5\", \"Topic5\", \"Topic5\", \"Topic5\", \"Topic5\", \"Topic5\", \"Topic5\", \"Topic5\", \"Topic5\", \"Topic5\", \"Topic5\", \"Topic5\", \"Topic5\", \"Topic5\", \"Topic5\", \"Topic5\", \"Topic5\", \"Topic5\", \"Topic5\", \"Topic5\", \"Topic5\", \"Topic5\", \"Topic5\", \"Topic5\", \"Topic5\", \"Topic5\", \"Topic5\", \"Topic5\", \"Topic5\"], \"logprob\": [30.0, 29.0, 28.0, 27.0, 26.0, 25.0, 24.0, 23.0, 22.0, 21.0, 20.0, 19.0, 18.0, 17.0, 16.0, 15.0, 14.0, 13.0, 12.0, 11.0, 10.0, 9.0, 8.0, 7.0, 6.0, 5.0, 4.0, 3.0, 2.0, 1.0, -7.125, -7.1758, -7.132, -7.132, -7.4774, -7.5504, -7.482, -7.629, -7.6291, -7.63, -6.4845, -5.4496, -7.8085, -7.9114, -7.9125, -7.9138, -6.6602, -8.0274, -8.028, -6.7281, -5.8734, -8.157, -8.157, -6.8092, -8.0459, -7.4122, -6.6628, -6.2565, -7.541, -8.3062, -5.8258, -6.6938, -6.3419, -6.8126, -5.824, -5.465, -6.3149, -6.521, -6.6413, -6.6718, -6.2211, -6.6769, -5.7477, -5.6187, -6.5653, -5.8695, -6.3766, -6.5491, -5.2844, -4.9204, -5.1719, -4.7242, -4.7404, -5.7269, -6.0783, -6.2252, -6.0697, -5.5073, -5.5715, -6.0891, -5.2267, -5.8731, -5.8475, -5.8892, -5.7096, -5.9995, -5.8591, -5.5863, -5.6561, -5.7639, -5.9822, -5.944, -5.9853, -5.9414, -6.001, -4.9618, -7.1013, -7.2962, -7.4107, -7.4108, -7.4112, -6.5209, -7.6909, -6.7498, -7.5617, -7.5719, -7.7172, -7.1814, -6.4111, -6.0081, -6.1203, -7.1934, -6.7904, -7.89, -7.119, -6.2542, -6.8021, -6.8597, -6.4028, -6.705, -6.8206, -6.7178, -6.5807, -6.5778, -6.2899, -6.1347, -5.5031, -6.419, -4.2906, -6.7408, -5.9936, -5.6962, -6.7044, -5.9798, -5.9343, -6.2004, -6.3739, -5.9044, -5.3267, -6.3305, -6.5908, -6.3244, -5.416, -6.2431, -6.034, -5.6649, -5.5892, -5.9207, -5.9472, -5.7451, -6.1141, -5.7948, -6.0536, -5.7015, -5.9664, -6.0314, -6.0211, -5.9409, -5.9839, -6.0289, -6.0154, -6.056, -6.0771, -6.2623, -6.2748, -6.3647, -6.4789, -6.48, -6.6791, -6.7357, -6.8171, -6.8856, -7.0287, -7.0553, -7.0293, -6.8672, -7.2637, -7.2977, -7.2345, -7.2676, -7.4451, -6.5768, -7.4851, -7.4852, -7.4852, -7.3031, -7.6658, -7.6202, -6.318, -6.3816, -7.717, -7.7702, -7.1309, -6.3537, -7.2855, -6.0241, -6.309, -6.9785, -7.172, -5.9321, -6.7795, -6.2416, -6.5004, -5.2741, -6.4768, -6.0433, -5.911, -5.4154, -6.3867, -5.112, -5.4741, -5.9819, -6.3459, -5.5205, -5.6438, -6.2728, -6.0727, -6.2523, -5.9093, -6.288, -5.7256, -5.5409, -5.7296, -6.0903, -6.0395, -5.8847, -6.0429, -5.7304, -6.1477, -6.2317, -6.096, -6.0913, -6.0401, -6.0793, -6.1727, -6.1225, -6.2301, -6.231, -6.2139, -6.9246, -7.0144, -7.1673, -7.2236, -7.3472, -7.4158, -7.4883, -6.8703, -6.2181, -6.6348, -6.6683, -6.2649, -7.6524, -7.6532, -7.3064, -7.7482, -7.8492, -7.4435, -7.8495, -7.8496, -6.6299, -7.9651, -7.2271, -6.7718, -8.0946, -8.0949, -7.1384, -6.5233, -7.5477, -7.4156, -7.3016, -5.4233, -6.136, -5.5707, -6.6745, -6.9949, -6.8377, -6.2554, -6.7046, -5.4467, -6.5287, -6.5812, -6.1506, -5.595, -5.8456, -5.2263, -6.0672, -6.6165, -5.8281, -5.9148, -4.3389, -5.8679, -6.3063, -5.2251, -5.473, -6.1277, -5.5874, -6.1063, -6.1068, -6.2921, -5.108, -5.6001, -5.9549, -5.9446, -5.9097, -6.0808, -5.7041, -5.7246, -5.6144, -5.683, -5.8028, -5.8215, -5.9908, -5.9047, -6.0692, -6.0197, -6.0684, -6.3355, -6.6015, -6.8036, -6.9084, -6.9085, -6.9983, -7.1583, -7.1943, -7.1944, -7.1951, -7.2319, -7.2321, -7.1982, -5.9259, -7.3537, -7.3977, -7.4447, -7.4936, -7.5426, -7.5426, -7.5427, -7.5437, -7.5437, -7.5971, -7.5976, -7.7124, -7.7128, -7.7133, -7.7139, -7.7143, -6.8844, -6.8169, -6.1232, -7.6033, -6.1093, -7.0657, -5.6001, -6.0662, -6.6865, -6.7474, -5.6785, -5.7001, -6.5221, -7.0965, -6.5564, -6.112, -6.054, -5.1089, -6.2712, -6.3193, -5.3173, -5.6665, -6.0607, -5.2959, -6.6098, -4.3934, -5.5876, -5.5669, -6.0128, -5.7481, -5.9745, -5.8445, -6.4162, -5.3958, -5.4906, -5.6916, -5.7997, -5.4184, -5.9854, -5.7971, -5.6054, -5.6343, -5.5951, -5.6335, -5.7145, -5.7955, -5.8438, -5.8858, -5.9291, -5.9554], \"loglift\": [30.0, 29.0, 28.0, 27.0, 26.0, 25.0, 24.0, 23.0, 22.0, 21.0, 20.0, 19.0, 18.0, 17.0, 16.0, 15.0, 14.0, 13.0, 12.0, 11.0, 10.0, 9.0, 8.0, 7.0, 6.0, 5.0, 4.0, 3.0, 2.0, 1.0, 1.7007, 1.6987, 1.6935, 1.6935, 1.6847, 1.6806, 1.68, 1.6762, 1.676, 1.6751, 1.6718, 1.6666, 1.6636, 1.656, 1.6549, 1.6536, 1.6535, 1.6453, 1.6447, 1.6443, 1.6419, 1.6334, 1.6334, 1.6274, 1.6265, 1.6246, 1.623, 1.6229, 1.62, 1.6176, 1.601, 1.5909, 1.5753, 1.5914, 1.5454, 1.5118, 1.5498, 1.5621, 1.564, 1.56, 1.5187, 1.553, 1.4585, 1.4144, 1.5203, 1.3945, 1.4834, 1.5141, 1.2395, 1.0899, 1.1121, 0.9137, 0.8917, 1.2191, 1.3271, 1.3826, 1.3095, 1.0614, 1.0771, 1.3126, 0.8838, 1.1647, 1.1131, 0.9717, 0.7864, 1.0693, 0.8781, 0.4409, 0.5458, 0.6133, 0.9223, 0.8198, 0.8541, 0.2437, 2.3324, 2.3108, 2.3015, 2.2885, 2.2791, 2.279, 2.2786, 2.2746, 2.2495, 2.2454, 2.2449, 2.2343, 2.2222, 2.2186, 2.2163, 2.2131, 2.21, 2.2077, 2.2036, 2.2031, 2.2, 2.1959, 2.1912, 2.1909, 2.1847, 2.1828, 2.1731, 2.1702, 2.1697, 2.1695, 2.1587, 2.11, 1.9849, 2.098, 1.8305, 2.098, 1.8975, 1.813, 2.0853, 1.8708, 1.8489, 1.8935, 1.9521, 1.7351, 1.1349, 1.8111, 1.9945, 1.7681, 0.9669, 1.6797, 1.3627, 0.8981, 0.6798, 0.9718, 0.9775, 0.464, 1.2613, 0.3006, 1.0316, -0.0636, 0.6968, 0.8883, 0.7161, 0.3014, 0.2045, 0.4083, 0.2686, 0.5127, 0.3832, 1.1706, 1.1702, 1.1696, 1.1682, 1.1671, 1.1654, 1.1648, 1.1636, 1.1597, 1.1597, 1.1591, 1.159, 1.1561, 1.1544, 1.1532, 1.1519, 1.1505, 1.1489, 1.1482, 1.1481, 1.1481, 1.1481, 1.1479, 1.1419, 1.141, 1.1398, 1.1397, 1.1395, 1.1377, 1.1375, 1.1291, 1.1328, 1.0914, 1.0896, 1.1129, 1.1245, 1.0167, 1.0835, 1.027, 1.0498, 0.8584, 1.0322, 0.9489, 0.9252, 0.8334, 1.0004, 0.7527, 0.8044, 0.8915, 0.9546, 0.59, 0.597, 0.8819, 0.7738, 0.8674, 0.6079, 0.8487, 0.3016, 0.0969, 0.2807, 0.6259, 0.5406, 0.3172, 0.471, -0.0984, 0.6056, 0.7668, 0.3568, 0.2859, -0.0071, 0.1033, 0.5026, -0.0114, 0.266, 0.226, 1.7824, 1.7649, 1.762, 1.7557, 1.7534, 1.7477, 1.7435, 1.7401, 1.7386, 1.7366, 1.7356, 1.7327, 1.7306, 1.7301, 1.7293, 1.7274, 1.7213, 1.7156, 1.7155, 1.7153, 1.7152, 1.7112, 1.7051, 1.6949, 1.6946, 1.6933, 1.693, 1.6861, 1.6807, 1.6798, 1.6794, 1.6771, 1.6319, 1.6208, 1.5771, 1.6362, 1.654, 1.6299, 1.566, 1.6081, 1.4427, 1.5753, 1.5697, 1.4796, 1.3644, 1.409, 1.2482, 1.4389, 1.5591, 1.3425, 1.3474, 0.8092, 1.3125, 1.4461, 0.96, 1.048, 1.3433, 1.0612, 1.2767, 1.2745, 1.385, 0.524, 0.8569, 1.1326, 1.0952, 1.0509, 1.2147, 0.7574, 0.7283, 0.2504, 0.35, 0.3298, 0.3804, 0.8537, 0.4725, 1.0094, 0.2226, 0.4062, 1.3393, 1.3357, 1.3321, 1.33, 1.3299, 1.3248, 1.3238, 1.3229, 1.3228, 1.3221, 1.3217, 1.3215, 1.319, 1.3189, 1.3178, 1.3164, 1.3139, 1.3115, 1.3114, 1.3114, 1.3113, 1.3103, 1.3103, 1.3083, 1.3078, 1.3042, 1.3038, 1.3034, 1.3027, 1.3023, 1.3014, 1.2961, 1.2846, 1.3021, 1.2639, 1.2874, 1.2329, 1.2518, 1.2733, 1.2745, 1.2025, 1.2015, 1.2512, 1.2872, 1.2499, 1.2062, 1.1823, 1.0544, 1.1848, 1.1869, 1.033, 1.0679, 1.13, 0.9919, 1.2156, 0.7548, 0.981, 0.9713, 1.0665, 0.9758, 1.0339, 0.96, 1.1606, 0.7869, 0.8167, 0.8937, 0.9361, 0.6769, 0.9705, 0.8043, 0.6037, 0.608, 0.4379, 0.4777, 0.4739, 0.5927, 0.6605, 0.5744, 0.3772, 0.4168]}, \"token.table\": {\"Topic\": [1, 2, 3, 4, 1, 2, 3, 4, 5, 1, 3, 4, 5, 1, 2, 3, 4, 5, 1, 2, 3, 4, 5, 3, 4, 4, 5, 1, 3, 4, 5, 1, 2, 3, 1, 3, 1, 2, 3, 1, 2, 3, 4, 5, 1, 3, 4, 5, 1, 1, 1, 2, 3, 4, 5, 1, 2, 3, 4, 5, 2, 3, 2, 3, 5, 4, 4, 1, 4, 1, 2, 3, 4, 1, 2, 3, 4, 5, 5, 1, 2, 3, 4, 5, 5, 4, 5, 3, 5, 1, 2, 3, 4, 5, 4, 3, 4, 5, 3, 4, 3, 5, 1, 2, 3, 4, 5, 1, 3, 5, 1, 3, 4, 3, 3, 4, 1, 3, 4, 2, 4, 5, 2, 3, 4, 1, 2, 3, 4, 5, 1, 2, 3, 4, 5, 1, 2, 3, 4, 5, 3, 2, 5, 3, 4, 5, 5, 2, 1, 2, 4, 3, 5, 1, 2, 3, 4, 5, 1, 2, 3, 4, 5, 5, 3, 4, 5, 2, 4, 5, 1, 2, 3, 4, 5, 4, 5, 3, 4, 3, 3, 4, 5, 3, 1, 2, 3, 4, 5, 1, 3, 4, 5, 2, 4, 2, 1, 2, 5, 4, 1, 4, 1, 3, 4, 5, 1, 2, 3, 4, 5, 1, 2, 3, 4, 5, 1, 3, 4, 5, 1, 2, 3, 4, 5, 5, 2, 5, 3, 4, 3, 3, 1, 2, 3, 4, 5, 2, 4, 5, 5, 3, 4, 1, 2, 3, 4, 5, 3, 1, 3, 4, 1, 2, 3, 4, 1, 2, 3, 1, 3, 4, 1, 1, 2, 3, 4, 2, 3, 5, 1, 3, 5, 2, 4, 5, 5, 1, 2, 3, 4, 5, 1, 3, 5, 3, 1, 2, 4, 5, 2, 2, 3, 5, 1, 2, 3, 4, 4, 2, 3, 5, 1, 3, 3, 3, 4, 5, 4, 1, 2, 3, 4, 5, 2, 3, 4, 5, 1, 5, 1, 3, 5, 5, 1, 3, 4, 1, 2, 3, 2, 3, 4, 5, 3, 5, 1, 2, 1, 2, 3, 4, 5, 1, 2, 3, 4, 5, 1, 2, 3, 4, 5, 1, 2, 3, 4, 5, 3, 4, 5, 1, 2, 3, 4, 5, 1, 2, 3, 4, 5, 5, 5, 2, 3, 4, 1, 2, 3, 4, 5, 1, 2, 3, 5, 1, 2, 5, 1, 2, 3, 4, 5, 5, 1, 2, 3, 4, 5, 5, 1, 2, 3, 4, 5, 1, 2, 3, 4, 5, 3, 4, 1, 2, 5, 3, 1, 2, 3, 4, 1, 2, 3, 4, 2, 1, 3, 4, 4, 1, 1, 2, 3, 4, 5, 2, 4, 5, 3, 4, 5, 3, 3, 4, 3, 1, 2, 3, 4, 5, 2, 3, 4, 5, 3, 1, 2, 3, 4, 5, 1, 2, 3, 4, 5, 1, 2, 3, 4, 5, 1, 2, 3, 4, 5, 1, 4, 1, 1, 2, 3, 4, 5, 1, 2, 3, 4, 5, 1, 2, 3, 1, 2, 3, 4, 5, 1, 2, 3, 4, 5, 5, 2, 4, 5, 1, 3, 4, 1, 2, 3, 4, 5, 1, 2, 3, 4, 5, 1, 2, 3, 4, 5, 1, 2, 3, 4, 1, 2, 3, 4, 5, 1, 1, 1, 2, 3, 4, 1, 2, 3, 4, 5, 1, 2, 3, 4, 5, 1, 3, 4, 5, 1, 1, 3, 3, 2, 5, 4, 1, 2, 3, 4, 5, 2, 3, 4, 5, 1, 2, 3, 4, 5, 1, 2, 3, 4, 5, 1, 2, 3, 5, 1, 2, 3, 4, 5, 3, 1, 2, 3, 4, 5, 5, 1, 2, 3, 4, 5, 1, 3, 1, 2, 3, 4, 5, 1, 1, 2, 4, 5, 1, 2, 3, 4, 5, 1, 2, 1, 2, 3, 5, 2, 3, 5, 2, 5, 5, 2, 3, 1, 2, 2, 3, 4, 5, 2, 1, 4, 4, 3, 4, 5, 4, 1, 2, 3, 4, 5, 1, 2, 3, 4, 1, 2, 3, 5, 5, 5, 1, 2, 3, 4, 5, 1, 2, 3, 4, 2, 5, 5, 3, 4, 1, 3, 4, 1, 2, 3, 4, 5, 3, 1, 2, 3, 4, 5, 1, 2, 3, 4, 5, 1, 3, 4, 1, 3, 4, 5, 1, 2, 3, 4, 5, 1, 1, 2, 3, 4, 1, 1, 3, 4, 5, 5, 2, 1, 3, 1, 3, 1, 2, 4, 1, 3, 4, 5, 1, 1, 2, 3, 4, 5, 2, 3, 5, 2, 3, 4, 5, 4, 2, 5, 3, 3, 1, 2, 3, 4, 5, 1, 2, 4, 5, 2, 4, 5, 3, 5, 1, 2, 3, 4, 5, 1, 3, 4, 5, 1, 2, 3, 4, 5, 1, 2, 3, 4, 5, 2, 3, 5, 1, 2, 3, 4, 5, 1, 3, 4, 5, 1, 3, 4, 3, 4, 5, 1, 2, 3, 4, 5, 1, 2, 3, 4, 5, 2, 3, 4, 1, 2, 4, 1, 2, 3, 4, 5, 5, 3, 4, 5, 3, 3, 4, 2, 4, 1, 2, 3, 4, 5, 1, 2, 3, 4, 5, 1, 3, 1, 2, 3, 4, 5, 1, 2, 3, 4, 5, 4, 1, 4, 1, 5, 1, 2, 3, 5, 2, 3, 4, 1, 3, 5, 4, 5, 1, 2, 3, 4, 5, 1, 2, 3, 4, 5, 1, 3, 4, 3, 5, 2, 3, 4, 5, 2, 3, 1, 3, 4, 5, 2, 3, 4, 1, 1, 1, 2, 3, 4, 5, 1, 2, 3, 4, 5, 5, 1, 2, 3, 4, 5, 1, 2, 5, 1, 2, 3, 5, 1, 3, 4, 5, 1, 3, 4, 3, 4, 5, 1, 3, 4, 5, 1, 2, 3, 4, 5, 1, 2, 3, 4, 5, 1, 2, 3, 4, 5, 1, 2, 3, 4, 5, 5, 5, 2, 5, 1, 2, 3, 4, 5, 1, 2, 3, 4, 5, 1, 2, 3, 4, 5, 1, 2, 3, 4, 5, 1, 2, 3, 4, 5, 2, 3, 4, 5, 1, 2, 3, 4, 5, 4, 3, 5, 1, 2, 3, 4, 5, 1, 2, 3, 4, 5, 5, 5], \"Freq\": [0.22408903036003192, 0.06758240598159693, 0.27744356139813475, 0.4303932170406962, 0.19945574439005476, 0.1857001758114303, 0.13067790149693242, 0.38515592020148504, 0.1031667643396835, 0.23720126996808885, 0.09488050798723555, 0.6641635559106488, 0.01581341799787259, 0.3552990414296166, 0.007723892204991665, 0.1081344908698833, 0.47115742450449155, 0.06179113763993332, 0.33029833296000805, 0.034768245574737684, 0.08692061393684422, 0.4519871924715899, 0.09561267533052864, 0.9620930089315158, 0.9283058387504097, 0.9488963972162578, 0.03162987990720859, 0.5937541997244496, 0.17508136658541465, 0.19791806657481656, 0.030448933319202547, 0.16174157808429512, 0.5054424315134223, 0.32348315616859025, 0.9065922733283512, 0.06973786717910395, 0.901243417563941, 0.08070836575199472, 0.9745928108630915, 0.04548819986484075, 0.037906833220700625, 0.7088577812271016, 0.06823229979726111, 0.14404596623866237, 0.6483557549842263, 0.0960527044421076, 0.22812517305000554, 0.0240131761105269, 0.916059239480323, 0.9306426499058775, 0.41057135407115297, 0.0410571354071153, 0.3421427950592942, 0.15054282982608944, 0.054742847209487064, 0.05486945098701985, 0.06096605665224428, 0.15241514163061068, 0.04267623965657099, 0.6889164401703604, 0.8862794433564475, 0.05908529622376317, 0.8118363290879417, 0.12489789678276025, 0.06244894839138013, 0.9574339963775713, 0.9137608815866497, 0.12537312838927983, 0.8776118987249588, 0.7225606311816877, 0.0747476515015539, 0.12457941916925648, 0.0747476515015539, 0.040513575275047564, 0.04861629033005708, 0.15395158604518075, 0.02430814516502854, 0.7292443549508562, 0.9702234017899559, 0.006960945406434277, 0.06960945406434277, 0.09397276298686275, 0.08701181758042846, 0.7413406857852506, 0.9939118827614546, 0.9573586344847588, 0.9755864815366398, 0.9821585617727795, 0.9813398885896017, 0.07216283393202853, 0.24535363536889704, 0.3175164693009256, 0.04329770035921712, 0.3175164693009256, 0.9747882738133203, 0.15116462243102058, 0.5614685976009335, 0.28073429880046674, 0.20095525150456278, 0.7855523467905636, 0.031090151722100837, 0.9327045516630251, 0.22375348686224175, 0.18932987349881994, 0.29260071358908535, 0.2696516380134708, 0.028686344469518173, 0.8307140863666506, 0.0237346881819043, 0.1186734409095215, 0.9448636156175878, 0.025536854476151023, 0.025536854476151023, 0.9772732570762727, 0.06959866647203261, 0.904782664136424, 0.06143439204439401, 0.030717196022197003, 0.9215158806659101, 0.024161249044142713, 0.03624187356621407, 0.9302080881994944, 0.8589587148244466, 0.04090279594402127, 0.08180559188804254, 0.11978511951098063, 0.5510115497505109, 0.16769916731537288, 0.11978511951098063, 0.047914047804392255, 0.05700423419850733, 0.04750352849875611, 0.20901552539452686, 0.5747926948349489, 0.10925811554713905, 0.006160717440429815, 0.02464286976171926, 0.09857147904687703, 0.11705363136816647, 0.7516075277324373, 0.9621504397780076, 0.9193263108794596, 0.04838559530944524, 0.22657738267842556, 0.6930602293693018, 0.06664040667012516, 0.9747494059678796, 0.9114126404446903, 0.07325559222162967, 0.7691837183271115, 0.18313898055407418, 0.9401627544481592, 0.029380086076504976, 0.03734514234748943, 0.03734514234748943, 0.38745585185520287, 0.38745585185520287, 0.14938056938995772, 0.8741698108715051, 0.024624501714690286, 0.024624501714690286, 0.04924900342938057, 0.03693675257203543, 0.9654962674877243, 0.7972189466071921, 0.04783313679643152, 0.1594437893214384, 0.8259548469435221, 0.05899677478168015, 0.05899677478168015, 0.00539359817286403, 0.07551037442009642, 0.3020414976803857, 0.03775518721004821, 0.5771150044964513, 0.9211891257124099, 0.06141260838082733, 0.7335817320302822, 0.26264037319602695, 0.9599006711257454, 0.9607281509163451, 0.013531382407272466, 0.013531382407272466, 0.9874118359299463, 0.05035913480371851, 0.0719416211481693, 0.05035913480371851, 0.6978337251372422, 0.12949491806670474, 0.9160575506795781, 0.982640604544023, 0.8786160991038153, 0.05491350619398846, 0.09962551356095299, 0.896629622048577, 0.9122347278314051, 0.05449960123313416, 0.8447438191135794, 0.08174940184970124, 0.9573609043627859, 0.14929076315212345, 0.8360282736518914, 0.013021326619771697, 0.9505568432433339, 0.026042653239543394, 0.013021326619771697, 0.5078336356438322, 0.20657639416020296, 0.043036748783375614, 0.22379109367355318, 0.008607349756675122, 0.1516167488031138, 0.06202503360127383, 0.668492028813729, 0.03445835200070768, 0.08959171520183998, 0.05773767254269257, 0.30793425356102705, 0.6158685071220541, 0.01924589084756419, 0.05589172469103305, 0.027945862345516524, 0.08383758703654957, 0.8011147205714737, 0.027945862345516524, 0.9891779340761271, 0.8168020509460151, 0.08168020509460151, 0.9624113010504427, 0.0331865965879463, 0.9756134622173166, 0.9819185821556574, 0.018811677810683842, 0.6019736899418829, 0.2821751671602576, 0.07524671124273537, 0.037623355621367684, 0.068505449371065, 0.8391917547955462, 0.08563181171383125, 0.974751535704873, 0.07453740010835239, 0.8944488013002286, 0.12222484470374989, 0.09249447707310803, 0.30391042466878354, 0.06606748362364859, 0.41622514682898615, 0.9874123407680251, 0.3997122078472043, 0.31723191098984466, 0.2855087198908602, 0.2406626014644369, 0.5749162146094882, 0.14707158978382256, 0.04011043357740615, 0.15159269266677436, 0.7579634633338718, 0.10106179511118289, 0.844410700019091, 0.10052508333560607, 0.04021003333424243, 0.9666131242742542, 0.60390405145273, 0.014972827721968512, 0.21461053068154867, 0.16470110494165363, 0.1001315787326477, 0.0715225562376055, 0.8296616523562239, 0.9266064975965473, 0.029890532180533787, 0.029890532180533787, 0.1045918452197056, 0.8367347617576448, 0.034863948406568535, 0.972218187599983, 0.031532282161055025, 0.031532282161055025, 0.8618823790688374, 0.010510760720351675, 0.06306456432211005, 0.019044007690315827, 0.9141123691351597, 0.05713202307094748, 0.9874126248402287, 0.06052180240296036, 0.665739826432564, 0.21182630841036126, 0.06052180240296036, 0.9467486489366488, 0.8299805910233987, 0.04611003283463326, 0.1383300985038998, 0.17153049890786234, 0.16200102674631445, 0.028588416484643726, 0.6289451626621619, 0.9399203291395251, 0.05087946599141332, 0.10175893198282664, 0.844599135457461, 0.9306695798280539, 0.9908580398400201, 0.9642706612994064, 0.12698205033777013, 0.7872887120941748, 0.07618923020266208, 0.9345140021727697, 0.3420051478672022, 0.008769362765825697, 0.12277107872155978, 0.5173924031837162, 0.008769362765825697, 0.9391401330434038, 0.03165640897899114, 0.01055213632633038, 0.02110427265266076, 0.919147778314385, 0.06338950195271621, 0.8905969557730222, 0.05808241015911014, 0.03872160677274009, 0.9721261924237393, 0.9294826207007728, 0.03609641245439894, 0.03609641245439894, 0.09116223548619116, 0.8508475312044508, 0.06077482365746077, 0.8881285286093632, 0.011042851835425986, 0.08834281468340789, 0.9055138505049308, 0.032057518490302216, 0.9296680362187641, 0.08867425313104917, 0.8867425313104917, 0.17418369166433792, 0.024883384523476847, 0.3085539680911129, 0.4727843059460601, 0.019906707618781477, 0.03617363271241121, 0.09244372804282866, 0.1567524084204486, 0.12861736075523986, 0.5868167084457819, 0.010614751086333975, 0.037151628802168914, 0.2176023972698465, 0.10084013532017277, 0.6315776896368716, 0.068282061719581, 0.12680954319350757, 0.23410992589570628, 0.06503053497102952, 0.5104896995225817, 0.04079548892586335, 0.06799248154310558, 0.8907015082146831, 0.30383827029123317, 0.007234244530743646, 0.4232033050485033, 0.24234719177991215, 0.025319855857602762, 0.10377040485577901, 0.06423882205357749, 0.49414478502751913, 0.0592973742033023, 0.28166252746568593, 0.9831735566757641, 0.970221106295116, 0.6666765919777109, 0.07843254023267186, 0.19608135058167966, 0.10380864052561233, 0.22244708684059783, 0.11122354342029891, 0.02965961157874638, 0.5338730084174348, 0.16793779179551513, 0.6237689409547705, 0.07197333934093506, 0.1439466786818701, 0.1387596702312832, 0.8325580213876992, 0.9658369429570445, 0.13272639562988786, 0.14187994015608704, 0.2746063357859749, 0.20595475183948117, 0.24714570220737742, 0.9658472028672097, 0.03012988225656999, 0.12428576430835121, 0.1619481171290637, 0.20714294051391868, 0.47454564554097733, 0.9658538441691856, 0.04526630587517107, 0.015088768625057022, 0.015088768625057022, 0.7242608940027371, 0.19615399212574128, 0.021674663395348976, 0.24275623002790853, 0.3294548836093044, 0.169062374483722, 0.23408636466976893, 0.04015484161882332, 0.9235613572329363, 0.6934464379453902, 0.14754179530752984, 0.13278761577677684, 0.9599952104138936, 0.8314022084171583, 0.026819426077972847, 0.08045827823391855, 0.053638852155945695, 0.1347265311721458, 0.12436295185121153, 0.062181475925605766, 0.6736326558607291, 0.9467670405320775, 0.8261616806499639, 0.02753872268833213, 0.11015489075332852, 0.9137687747034137, 0.8972894580265894, 0.5591179206912774, 0.01669008718481425, 0.12517565388610688, 0.20862608981017813, 0.08345043592407125, 0.9588482627906902, 0.9459056056568327, 0.03261743467782182, 0.9821973425225586, 0.9392936099048479, 0.04174638266243769, 0.9796786881751067, 0.8472941459860405, 0.14503233129490783, 0.9870457049316443, 0.011045783736970774, 0.011045783736970774, 0.05522891868485387, 0.05522891868485387, 0.8615711314837204, 0.0313144923185746, 0.22963961033621372, 0.052190820530957666, 0.6889188310086412, 0.9887089618691303, 0.024440308796686287, 0.03360542459544365, 0.3055038599585786, 0.23523797216810552, 0.400210056545738, 0.037013939073242456, 0.05552090860986369, 0.1789007055206719, 0.061689898455404096, 0.6600819134728239, 0.23844912946029703, 0.2459006647559313, 0.290609876529737, 0.06706381766070854, 0.15648224120831994, 0.2508749703764081, 0.35839281482344015, 0.1194642716078134, 0.2389285432156268, 0.023892854321562677, 0.8623041945818801, 0.061593156755848574, 0.9519095569253828, 0.04614969581027728, 0.020977134459216944, 0.19718506391663929, 0.012586280675530167, 0.7258088522889062, 0.5329819583762642, 0.007724376208351654, 0.19310940520879136, 0.24718003866725294, 0.015448752416703309, 0.8787996460696904, 0.06759997277459157, 0.03379998638729578, 0.06150461621036468, 0.01537615405259117, 0.1076330783681382, 0.13069730944702496, 0.6842388553403072, 0.011670097136648721, 0.023340194273297442, 0.03501029140994616, 0.023340194273297442, 0.9219376737952489, 0.9658503243857589, 0.8221345221720041, 0.03425560509050017, 0.10276681527150051, 0.029796774454246833, 0.11918709781698733, 0.8641064591731581, 0.003548066078314233, 0.0425767929397708, 0.3406143435181664, 0.04612485901808503, 0.5676905725302773, 0.0707068048753097, 0.24747381706358396, 0.058922337396091415, 0.5892233739609142, 0.03535340243765485, 0.1357674555903188, 0.08354920344019619, 0.11488015473026976, 0.6370626762314959, 0.03133095129007357, 0.13711683418132978, 0.6268198134003647, 0.09794059584380699, 0.13711683418132978, 0.43832671361004477, 0.08643061958507925, 0.33749099076078565, 0.08231487579531357, 0.05350466926695382, 0.9666252544617313, 0.972409562597819, 0.7504965333734752, 0.01974990877298619, 0.029624863159479285, 0.1876241333433688, 0.03539589424198088, 0.07787096733235793, 0.7503929579299945, 0.10618768272594263, 0.0283167153935847, 0.03633114514370744, 0.22836719804616104, 0.3736917786209908, 0.06228196310349847, 0.3010294883335759, 0.14659415780881357, 0.1928870497484389, 0.6481004871547548, 0.007715481989937556, 0.9304370872307262, 0.8709680141108301, 0.11612906854811068, 0.9756238625005701, 0.0205259695639601, 0.9647205695061246, 0.9792419707884443, 0.005163816642243207, 0.036146716495702454, 0.6532228052437657, 0.2117164823319715, 0.09553060788149934, 0.5805193216579998, 0.2101880302554827, 0.016681589702816087, 0.1935064405526666, 0.14275058308220023, 0.11420046646576018, 0.28193240158734545, 0.04282517492466007, 0.4175454555154357, 0.27336142478630604, 0.03037349164292289, 0.4161168355080436, 0.10630722075023012, 0.17920360069324506, 0.02338914435565698, 0.32744802097919773, 0.3625317375126832, 0.2806697322678837, 0.1255226756890302, 0.023244939942413, 0.4370048709173644, 0.3440251111477124, 0.0743838078157216, 0.9905459674057538, 0.020251208603275582, 0.025314010754094476, 0.2582029096917637, 0.015188406452456686, 0.6834782903605509, 0.9550476374207094, 0.05286102396345807, 0.026430511981729035, 0.08589916394061936, 0.1585830718903742, 0.6739780555340904, 0.03810157080881405, 0.9652397938232893, 0.43821143452613337, 0.1387669542666089, 0.22640924117183558, 0.1460704781753778, 0.043821143452613336, 0.942583120414852, 0.10064636638835896, 0.578716606733064, 0.2516159159708974, 0.07548477479126922, 0.003941607197705443, 0.035474464779348985, 0.18919714548986127, 0.07489053675640342, 0.6976644739938634, 0.9423348015695729, 0.9467676273432276, 0.048110946950823005, 0.7697751512131681, 0.14433284085246903, 0.048110946950823005, 0.8256217586581148, 0.05897298276129391, 0.05897298276129391, 0.8857036948075213, 0.08857036948075213, 0.9721201753692873, 0.826231746777889, 0.11803310668255558, 0.030482988463643435, 0.9449726423729465, 0.07369536807728255, 0.7185298387535048, 0.07369536807728255, 0.1381788151449048, 0.8856519193197859, 0.8089833513333498, 0.19034902384314112, 0.9791579929852502, 0.9108428958464773, 0.009018246493529478, 0.07214597194823583, 0.9399207709783524, 0.03384657857203799, 0.03384657857203799, 0.5565881809624025, 0.0752146190489733, 0.29709774524344457, 0.25792321380244027, 0.29074980465002354, 0.09847977254274992, 0.351713473366964, 0.7785422897842187, 0.03797767267240091, 0.03797767267240091, 0.15191069068960364, 0.9878508223542435, 0.9658505861148008, 0.25085004834297503, 0.10034001933719001, 0.11706335589338836, 0.4933384284078509, 0.03344667311239667, 0.645692895672641, 0.02347974166082331, 0.1291385791345282, 0.1878379332865865, 0.8253824608090911, 0.15721570682077926, 0.9845195770441298, 0.04348754207055811, 0.9349821545169994, 0.011970311914179209, 0.9097437054776198, 0.07182187148507525, 0.13089697037323156, 0.680664245940804, 0.013089697037323154, 0.170166061485201, 0.026179394074646308, 0.9889801330098216, 0.010124297077367611, 0.020248594154735223, 0.7255746238780122, 0.2294840670869992, 0.016873828462279354, 0.15294247226546384, 0.15294247226546384, 0.08235363891217283, 0.5882402779440916, 0.011764805558881833, 0.3232665641426547, 0.4094709812473626, 0.26723369302459454, 0.7114009681872551, 0.01046177894393022, 0.2615444735982555, 0.02092355788786044, 0.17847143597670195, 0.024787699441208604, 0.5651595472595562, 0.22308929497087746, 0.009915079776483442, 0.9474614233045687, 0.7910968314378155, 0.06980266159745431, 0.0930702154632724, 0.0465351077316362, 0.9075233207996128, 0.05916181004096273, 0.8400977025816707, 0.02366472401638509, 0.08282653405734781, 0.9747700560154939, 0.9310529986781765, 0.9475798092025751, 0.9854349130779647, 0.8246184527540488, 0.16492369055080977, 0.9423166029351299, 0.05811621668743134, 0.8717432503114702, 0.8254124812486551, 0.03487658371473191, 0.127880806954017, 0.011625527904910634, 0.9474618567532214, 0.10772127195337139, 0.13582247333251174, 0.2482272788490732, 0.0468353356319006, 0.4589862891926259, 0.8208980128584256, 0.06840816773820213, 0.1026122516073032, 0.10694655505964427, 0.05833448457798779, 0.03888965638532519, 0.7972379558991665, 0.9493963098995247, 0.04890697040346495, 0.9536859228675665, 0.9836894865084251, 0.9742353650323582, 0.006305289046114899, 0.0012610578092229797, 0.06935817950726389, 0.37201205372077906, 0.5510822626304421, 0.11037346688737992, 0.00849026668364461, 0.849026668364461, 0.03396106673457844, 0.7962012311760384, 0.05308008207840256, 0.10616016415680513, 0.026300546033775594, 0.9468196572159214, 0.02322777820862684, 0.05806944552156709, 0.5052041760376337, 0.20905000387764155, 0.20324305932548484, 0.021702998146146305, 0.8030109314074133, 0.15192098702302415, 0.03255449721921946, 0.6628332032388402, 0.13256664064776805, 0.01205151278616073, 0.15666966622008952, 0.04820605114464292, 0.1438067760207189, 0.06536671637305405, 0.27889798985836395, 0.043577810915369365, 0.4662825767944522, 0.013329920835348267, 0.13329920835348266, 0.8531149334622891, 0.3834748935433489, 0.014562337729494263, 0.4028913438493413, 0.16503982760093497, 0.033978788035486616, 0.7928934553046247, 0.13345731425919424, 0.03140172100216335, 0.03140172100216335, 0.08034727501514163, 0.02678242500504721, 0.883820025166558, 0.9621757303398306, 0.01658923672999708, 0.9747548801166319, 0.17497594559841717, 0.2624639183976258, 0.1487295537586546, 0.026246391839762576, 0.39369587759643865, 0.10551098045588758, 0.5978955559166963, 0.07034065363725839, 0.10551098045588758, 0.12309614386520218, 0.7531972148592097, 0.13948096571466848, 0.08368857942880108, 0.8202462568033619, 0.09537747172132115, 0.07630197737705692, 0.27081732824089483, 0.09502362394417363, 0.1282818923246344, 0.24706142225485145, 0.2613149658464775, 0.9525463292568533, 0.22613546162796008, 0.017395035509843084, 0.7479865269232526, 0.9909922699573569, 0.933359323210836, 0.04786458067747877, 0.9306792485254735, 0.9399202461943207, 0.4275856152345349, 0.00818345675090019, 0.2782375295306065, 0.2802833937183315, 0.006137592563175143, 0.5226384708919123, 0.0029865055479537843, 0.4061647545217147, 0.0567436054111219, 0.008959516643861352, 0.8081472750551827, 0.18520041720014602, 0.08809962543316067, 0.06852193089245831, 0.24472118175877966, 0.09299404906833628, 0.4992312107879105, 0.10295005904042495, 0.051475029520212476, 0.025737514760106238, 0.6305691116226028, 0.18016260332074366, 0.9495182463039168, 0.06528905426553493, 0.914046759717489, 0.0669720789465908, 0.9152850789367408, 0.013366866002750732, 0.026733732005501464, 0.8688462901787977, 0.09356806201925513, 0.02785849307423045, 0.8775425318382591, 0.08357547922269135, 0.07337086378538599, 0.05502814783903948, 0.8804503654246317, 0.9698146258652891, 0.9891789973247913, 0.4614193961102518, 0.006991202971367451, 0.23770090102649336, 0.2726569158833306, 0.027964811885469804, 0.13723919325282236, 0.05575342225895908, 0.3087881848188503, 0.10292939493961675, 0.3945626806018642, 0.5145420635213712, 0.0056543083903447386, 0.48061621317930275, 0.9711963791947222, 0.028564599388080068, 0.03482220355187325, 0.03482220355187325, 0.03482220355187325, 0.9053772923487046, 0.849089873779477, 0.15920435133365193, 0.03410122670917817, 0.10230368012753452, 0.6990751475381525, 0.15345552019130176, 0.0348198580577915, 0.0348198580577915, 0.905316309502579, 0.9666263270401985, 0.9774169817680726, 0.01426664916069585, 0.01426664916069585, 0.06419992122313133, 0.04279994748208755, 0.8631322742220989, 0.14856549459406684, 0.08432095639122714, 0.224855883709939, 0.16462662914477677, 0.37743666194168335, 0.9793511407592806, 0.02511319438111667, 0.14440086769142085, 0.5650468735751251, 0.11928767331030418, 0.14440086769142085, 0.8505298467885847, 0.06542537282989112, 0.06542537282989112, 0.9010465504418314, 0.029066017756188108, 0.029066017756188108, 0.058132035512376216, 0.04846982149260486, 0.02423491074630243, 0.7997520546279802, 0.12117455373151215, 0.9423548841988286, 0.2082599818923454, 0.7809749320962952, 0.08873711763549058, 0.06338365545392184, 0.8493409830825527, 0.42585363639011775, 0.5546000846010836, 0.016505954898841775, 0.003301190979768355, 0.032089540952593115, 0.08022385238148279, 0.6578355895281589, 0.18451486047741042, 0.040111926190741394, 0.012098806821493946, 0.01814821023224092, 0.5746933240209624, 0.030247017053734865, 0.3690136080555654, 0.5340538906172825, 0.12173287212599822, 0.14922094002541716, 0.09031793738380513, 0.10602540475490167, 0.5063368537301706, 0.15659902692685687, 0.1252792215414855, 0.02087987025691425, 0.18791883231222825, 0.9771918917645469, 0.9747496637195824, 0.06294379552611941, 0.923175667716418, 0.06092588028261953, 0.5331014524729208, 0.13708323063589392, 0.07615735035327441, 0.19800911091851345, 0.027284470601460938, 0.013642235300730469, 0.7776074121416368, 0.06821117650365235, 0.10913788240584375, 0.4200848839709157, 0.19150928533968217, 0.030888594409626154, 0.06177718881925231, 0.29653050633241107, 0.05100487619746762, 0.1493714231497266, 0.26231079187269063, 0.06557769796817266, 0.47361670754791363, 0.01583981756687156, 0.005279939188957187, 0.5279939188957187, 0.11615866215705811, 0.33263616890430275, 0.01456265459366565, 0.10193858215565954, 0.021843981890498472, 0.8591966210262733, 0.037516726632087036, 0.037516726632087036, 0.740955350983719, 0.10317099823823934, 0.08441263492219583, 0.928400637034419, 0.08997688207193856, 0.8997688207193856, 0.13926082601419507, 0.181812745074088, 0.27078493947204596, 0.18954945763043218, 0.21662795157763676, 0.027335657379875897, 0.054671314759751795, 0.6872965284083082, 0.042956033025519265, 0.18744450774772042, 0.9878408091112765, 0.9891751972919727], \"Term\": [\"000\", \"000\", \"000\", \"000\", \"10\", \"10\", \"10\", \"10\", \"10\", \"1959\", \"1959\", \"1959\", \"1959\", \"1960\", \"1960\", \"1960\", \"1960\", \"1960\", \"1961\", \"1961\", \"1961\", \"1961\", \"1961\", \"academic\", \"acre\", \"acres\", \"acres\", \"act\", \"act\", \"act\", \"act\", \"add\", \"add\", \"add\", \"advantages\", \"advantages\", \"af\", \"af\", \"africa\", \"american\", \"american\", \"american\", \"american\", \"american\", \"amount\", \"amount\", \"amount\", \"amount\", \"ample\", \"appropriated\", \"area\", \"area\", \"area\", \"area\", \"area\", \"around\", \"around\", \"around\", \"around\", \"around\", \"artist\", \"artist\", \"artists\", \"artists\", \"artists\", \"atlanta\", \"attorneys\", \"automobile\", \"automobile\", \"available\", \"available\", \"available\", \"available\", \"away\", \"away\", \"away\", \"away\", \"away\", \"baby\", \"back\", \"back\", \"back\", \"back\", \"back\", \"ball\", \"bankers\", \"baseball\", \"berlin\", \"beside\", \"best\", \"best\", \"best\", \"best\", \"best\", \"bid\", \"bill\", \"bill\", \"bill\", \"billion\", \"billion\", \"birds\", \"birds\", \"board\", \"board\", \"board\", \"board\", \"board\", \"boat\", \"boat\", \"boat\", \"boats\", \"boats\", \"boats\", \"bombs\", \"bond\", \"bond\", \"bonds\", \"bonds\", \"bonds\", \"boy\", \"boy\", \"boy\", \"builder\", \"builder\", \"builder\", \"built\", \"built\", \"built\", \"built\", \"built\", \"business\", \"business\", \"business\", \"business\", \"business\", \"came\", \"came\", \"came\", \"came\", \"came\", \"castro\", \"cattle\", \"cattle\", \"cent\", \"cent\", \"cent\", \"charlie\", \"chef\", \"chemical\", \"chemical\", \"chemical\", \"china\", \"china\", \"city\", \"city\", \"city\", \"city\", \"city\", \"clay\", \"clay\", \"clay\", \"clay\", \"clay\", \"clothes\", \"college\", \"college\", \"college\", \"column\", \"column\", \"column\", \"come\", \"come\", \"come\", \"come\", \"come\", \"commissioner\", \"commissioner\", \"committee\", \"committee\", \"communism\", \"communist\", \"communist\", \"communist\", \"communists\", \"company\", \"company\", \"company\", \"company\", \"company\", \"comprehensive\", \"congo\", \"conspiracy\", \"conspiracy\", \"consumer\", \"consumer\", \"cooled\", \"cooling\", \"cooling\", \"cooling\", \"corp\", \"corporation\", \"corporation\", \"corps\", \"corps\", \"corps\", \"corps\", \"cost\", \"cost\", \"cost\", \"cost\", \"cost\", \"country\", \"country\", \"country\", \"country\", \"country\", \"county\", \"county\", \"county\", \"county\", \"court\", \"court\", \"court\", \"court\", \"court\", \"cousin\", \"cream\", \"cream\", \"crisis\", \"crisis\", \"cuba\", \"cuban\", \"daily\", \"daily\", \"daily\", \"daily\", \"daily\", \"dallas\", \"dallas\", \"dallas\", \"dave\", \"davis\", \"davis\", \"day\", \"day\", \"day\", \"day\", \"day\", \"democrats\", \"department\", \"department\", \"department\", \"design\", \"design\", \"design\", \"design\", \"designs\", \"designs\", \"designs\", \"determine\", \"determine\", \"determine\", \"determining\", \"development\", \"development\", \"development\", \"development\", \"door\", \"door\", \"door\", \"drill\", \"drill\", \"drill\", \"driver\", \"driver\", \"driver\", \"drove\", \"east\", \"east\", \"east\", \"east\", \"east\", \"editor\", \"editor\", \"editor\", \"editorial\", \"engineer\", \"engineer\", \"engineer\", \"engineer\", \"entertain\", \"entrance\", \"entrance\", \"entrance\", \"equipment\", \"equipment\", \"equipment\", \"equipment\", \"exempt\", \"eyes\", \"eyes\", \"eyes\", \"facility\", \"faculty\", \"fallout\", \"farm\", \"farm\", \"farm\", \"farmers\", \"federal\", \"federal\", \"federal\", \"federal\", \"federal\", \"feed\", \"feed\", \"feed\", \"feed\", \"fig\", \"fig\", \"file\", \"file\", \"file\", \"fingers\", \"fiscal\", \"fiscal\", \"fiscal\", \"foundation\", \"foundation\", \"foundation\", \"fruit\", \"game\", \"game\", \"game\", \"games\", \"games\", \"gate\", \"gate\", \"general\", \"general\", \"general\", \"general\", \"general\", \"get\", \"get\", \"get\", \"get\", \"get\", \"go\", \"go\", \"go\", \"go\", \"go\", \"good\", \"good\", \"good\", \"good\", \"good\", \"got\", \"got\", \"got\", \"government\", \"government\", \"government\", \"government\", \"government\", \"great\", \"great\", \"great\", \"great\", \"great\", \"guy\", \"hair\", \"handling\", \"handling\", \"handling\", \"head\", \"head\", \"head\", \"head\", \"head\", \"heat\", \"heat\", \"heat\", \"heat\", \"heating\", \"heating\", \"hell\", \"high\", \"high\", \"high\", \"high\", \"high\", \"hits\", \"home\", \"home\", \"home\", \"home\", \"home\", \"horses\", \"hospital\", \"hospital\", \"hospital\", \"hospital\", \"hospital\", \"house\", \"house\", \"house\", \"house\", \"house\", \"hughes\", \"hughes\", \"inch\", \"inch\", \"inch\", \"independence\", \"india\", \"india\", \"india\", \"india\", \"industry\", \"industry\", \"industry\", \"industry\", \"installation\", \"interference\", \"interference\", \"interference\", \"inventories\", \"involves\", \"island\", \"island\", \"island\", \"island\", \"island\", \"jane\", \"jones\", \"jones\", \"junior\", \"jury\", \"jury\", \"katanga\", \"kennedy\", \"kennedy\", \"khrushchev\", \"knew\", \"knew\", \"knew\", \"knew\", \"knew\", \"know\", \"know\", \"know\", \"know\", \"laos\", \"last\", \"last\", \"last\", \"last\", \"last\", \"left\", \"left\", \"left\", \"left\", \"left\", \"less\", \"less\", \"less\", \"less\", \"less\", \"level\", \"level\", \"level\", \"level\", \"level\", \"lever\", \"lever\", \"limitations\", \"little\", \"little\", \"little\", \"little\", \"little\", \"local\", \"local\", \"local\", \"local\", \"local\", \"location\", \"location\", \"location\", \"look\", \"look\", \"look\", \"look\", \"look\", \"looked\", \"looked\", \"looked\", \"looked\", \"looked\", \"luck\", \"lumber\", \"lumber\", \"lumber\", \"machinery\", \"machinery\", \"machinery\", \"man\", \"man\", \"man\", \"man\", \"man\", \"management\", \"management\", \"management\", \"management\", \"management\", \"market\", \"market\", \"market\", \"market\", \"market\", \"materials\", \"materials\", \"materials\", \"materials\", \"may\", \"may\", \"may\", \"may\", \"may\", \"measurement\", \"measurements\", \"medical\", \"medical\", \"medical\", \"medical\", \"members\", \"members\", \"members\", \"members\", \"members\", \"men\", \"men\", \"men\", \"men\", \"men\", \"million\", \"million\", \"million\", \"million\", \"minimize\", \"minimum\", \"minimum\", \"moscow\", \"mother\", \"mother\", \"motors\", \"mr\", \"mr\", \"mr\", \"mr\", \"mr\", \"mrs\", \"mrs\", \"mrs\", \"mrs\", \"much\", \"much\", \"much\", \"much\", \"much\", \"must\", \"must\", \"must\", \"must\", \"must\", \"name\", \"name\", \"name\", \"name\", \"national\", \"national\", \"national\", \"national\", \"national\", \"nations\", \"never\", \"never\", \"never\", \"never\", \"never\", \"nice\", \"night\", \"night\", \"night\", \"night\", \"night\", \"nuclear\", \"nuclear\", \"number\", \"number\", \"number\", \"number\", \"number\", \"objectives\", \"oil\", \"oil\", \"oil\", \"oil\", \"old\", \"old\", \"old\", \"old\", \"old\", \"operational\", \"oriental\", \"outdoor\", \"outdoor\", \"outdoor\", \"outdoor\", \"painted\", \"painted\", \"painted\", \"painter\", \"painter\", \"pair\", \"palace\", \"palace\", \"panels\", \"panels\", \"party\", \"party\", \"party\", \"party\", \"patterned\", \"payment\", \"payment\", \"payroll\", \"peace\", \"peace\", \"peace\", \"pension\", \"people\", \"people\", \"people\", \"people\", \"people\", \"per\", \"per\", \"per\", \"per\", \"pieces\", \"pieces\", \"pieces\", \"pieces\", \"pink\", \"pittsburgh\", \"plan\", \"plan\", \"plan\", \"plan\", \"plan\", \"planning\", \"planning\", \"planning\", \"planning\", \"plastic\", \"plastic\", \"player\", \"police\", \"police\", \"political\", \"political\", \"political\", \"pool\", \"pool\", \"pool\", \"pool\", \"pool\", \"premier\", \"president\", \"president\", \"president\", \"president\", \"president\", \"production\", \"production\", \"production\", \"production\", \"production\", \"program\", \"program\", \"program\", \"property\", \"property\", \"property\", \"property\", \"public\", \"public\", \"public\", \"public\", \"public\", \"puerto\", \"purposes\", \"purposes\", \"purposes\", \"purposes\", \"quantity\", \"question\", \"question\", \"question\", \"question\", \"rain\", \"rated\", \"ratio\", \"rayburn\", \"recreation\", \"recreation\", \"respectively\", \"retail\", \"retail\", \"rhode\", \"rhode\", \"rhode\", \"rhode\", \"rico\", \"right\", \"right\", \"right\", \"right\", \"right\", \"roof\", \"roof\", \"roof\", \"room\", \"room\", \"room\", \"room\", \"ruling\", \"runs\", \"runs\", \"russia\", \"russian\", \"said\", \"said\", \"said\", \"said\", \"said\", \"sales\", \"sales\", \"sales\", \"sales\", \"salt\", \"salt\", \"salt\", \"sat\", \"sat\", \"school\", \"school\", \"school\", \"school\", \"school\", \"schools\", \"schools\", \"schools\", \"schools\", \"section\", \"section\", \"section\", \"section\", \"section\", \"see\", \"see\", \"see\", \"see\", \"see\", \"seemed\", \"seemed\", \"seemed\", \"service\", \"service\", \"service\", \"service\", \"service\", \"shall\", \"shall\", \"shall\", \"shall\", \"shares\", \"shares\", \"shares\", \"shelter\", \"shelter\", \"shoes\", \"side\", \"side\", \"side\", \"side\", \"side\", \"sign\", \"sign\", \"sign\", \"sign\", \"sign\", \"signs\", \"signs\", \"signs\", \"site\", \"site\", \"site\", \"small\", \"small\", \"small\", \"small\", \"small\", \"smiled\", \"something\", \"something\", \"something\", \"soviet\", \"speaker\", \"speaker\", \"spice\", \"spokesman\", \"state\", \"state\", \"state\", \"state\", \"state\", \"states\", \"states\", \"states\", \"states\", \"states\", \"stations\", \"stations\", \"still\", \"still\", \"still\", \"still\", \"still\", \"stock\", \"stock\", \"stock\", \"stock\", \"stock\", \"stockholders\", \"stocks\", \"stocks\", \"straight\", \"straight\", \"student\", \"student\", \"student\", \"student\", \"students\", \"students\", \"students\", \"sun\", \"sun\", \"sun\", \"superintendent\", \"susan\", \"system\", \"system\", \"system\", \"system\", \"system\", \"take\", \"take\", \"take\", \"take\", \"take\", \"tax\", \"tax\", \"tax\", \"teachers\", \"teachers\", \"team\", \"team\", \"team\", \"team\", \"temple\", \"temple\", \"texas\", \"texas\", \"texas\", \"texas\", \"textile\", \"textile\", \"textile\", \"thereof\", \"thickness\", \"thought\", \"thought\", \"thought\", \"thought\", \"thought\", \"three\", \"three\", \"three\", \"three\", \"three\", \"tiny\", \"today\", \"today\", \"today\", \"today\", \"today\", \"tool\", \"tool\", \"tool\", \"towns\", \"towns\", \"towns\", \"towns\", \"traffic\", \"traffic\", \"traffic\", \"traffic\", \"transport\", \"trust\", \"trust\", \"turned\", \"turned\", \"turned\", \"united\", \"united\", \"united\", \"united\", \"university\", \"university\", \"university\", \"university\", \"university\", \"us\", \"us\", \"us\", \"us\", \"us\", \"use\", \"use\", \"use\", \"use\", \"use\", \"used\", \"used\", \"used\", \"used\", \"used\", \"vernon\", \"waited\", \"walked\", \"walked\", \"wall\", \"wall\", \"wall\", \"wall\", \"wall\", \"war\", \"war\", \"war\", \"war\", \"war\", \"water\", \"water\", \"water\", \"water\", \"water\", \"way\", \"way\", \"way\", \"way\", \"way\", \"week\", \"week\", \"week\", \"week\", \"week\", \"went\", \"went\", \"went\", \"went\", \"west\", \"west\", \"west\", \"west\", \"west\", \"wildlife\", \"woman\", \"woman\", \"work\", \"work\", \"work\", \"work\", \"work\", \"world\", \"world\", \"world\", \"world\", \"world\", \"yankees\", \"yards\"]}, \"R\": 30, \"lambda.step\": 0.01, \"plot.opts\": {\"xlab\": \"PC1\", \"ylab\": \"PC2\"}, \"topic.order\": [1, 2, 3, 4, 5]};\n",
       "\n",
       "function LDAvis_load_lib(url, callback){\n",
       "  var s = document.createElement('script');\n",
       "  s.src = url;\n",
       "  s.async = true;\n",
       "  s.onreadystatechange = s.onload = callback;\n",
       "  s.onerror = function(){console.warn(\"failed to load library \" + url);};\n",
       "  document.getElementsByTagName(\"head\")[0].appendChild(s);\n",
       "}\n",
       "\n",
       "if(typeof(LDAvis) !== \"undefined\"){\n",
       "   // already loaded: just create the visualization\n",
       "   !function(LDAvis){\n",
       "       new LDAvis(\"#\" + \"ldavis_el152141404408924933768465930470\", ldavis_el152141404408924933768465930470_data);\n",
       "   }(LDAvis);\n",
       "}else if(typeof define === \"function\" && define.amd){\n",
       "   // require.js is available: use it to load d3/LDAvis\n",
       "   require.config({paths: {d3: \"https://d3js.org/d3.v5\"}});\n",
       "   require([\"d3\"], function(d3){\n",
       "      window.d3 = d3;\n",
       "      LDAvis_load_lib(\"https://cdn.jsdelivr.net/gh/bmabey/pyLDAvis@3.4.0/pyLDAvis/js/ldavis.v3.0.0.js\", function(){\n",
       "        new LDAvis(\"#\" + \"ldavis_el152141404408924933768465930470\", ldavis_el152141404408924933768465930470_data);\n",
       "      });\n",
       "    });\n",
       "}else{\n",
       "    // require.js not available: dynamically load d3 & LDAvis\n",
       "    LDAvis_load_lib(\"https://d3js.org/d3.v5.js\", function(){\n",
       "         LDAvis_load_lib(\"https://cdn.jsdelivr.net/gh/bmabey/pyLDAvis@3.4.0/pyLDAvis/js/ldavis.v3.0.0.js\", function(){\n",
       "                 new LDAvis(\"#\" + \"ldavis_el152141404408924933768465930470\", ldavis_el152141404408924933768465930470_data);\n",
       "            })\n",
       "         });\n",
       "}\n",
       "</script>"
      ],
      "text/plain": [
       "<IPython.core.display.HTML object>"
      ]
     },
     "execution_count": 58,
     "metadata": {},
     "output_type": "execute_result"
    }
   ],
   "source": [
    "pyLDAvis.display(lda_display)"
   ]
  },
  {
   "attachments": {},
   "cell_type": "markdown",
   "id": "a3d14c87",
   "metadata": {},
   "source": [
    "Q: What conclusions do you draw from the visualization above? Please address the principal component scatterplot and the salient terms graph.\n",
    "\n",
    "A: As we can see from the size of the bubbles in the pca scatterplot, Topic 3 (which is previously described as 'Topic 02') is the largest topic while Topic 2 (which is previously described as 'Topic 01') is the smallest. \n",
    "\n",
    "Topic 1: In the salient terms graphs, we see that this topic has a decent inital decline in the length of the bars which means there is some pronouncing of this topic. Additionally, there is no overlap between its PCA bubble and any of the other topic bubbles, although it is fairly close to Topic 4 (both have subtopics that are somewhat related to domestic policies such as taxes).\n",
    "\n",
    "Topic 2: In the salient terms graphs, we see that this topic is pretty steady in the length of the bars which means there it is not well pronounced. Additionally, it is far away from the other bubbles in the PCA scatterplot so it is unlike the others.\n",
    "\n",
    "Topic 3: In the salient terms graphs, we see that the terms in this topic are very government-focused and it is pronounced. From the size of the bubble, we know that a lot of the texts in this corpus will be focused on these topic with over 30% of all tokens being related to this topic the most. There is slight overlap with Topic 4 which makes sense as some of its top terms also are government-related: \"tax\", \"president\", \"federal\". \n",
    "\n",
    "Topic 4: In the salient terms graphs, we see that this topic is not very well pronounced and has sevral subtopics within it. \"Dialogue\", \"governemt\", and \"prices\" all seem to make up this topic which does not experience much decline in the length of the bars. \n",
    "\n",
    "Topic 5: In the salient terms graphs, we see that aside from the initial couple of terms, there is a very slight decline in bar length which suggests the topic is not well defined. Most of the terms in the top-30 list are not good categorizers as they are more broad and can apply to various situation types. It is hard to suggest may topics from this graph. It is also important to note that its terms do not seem to align with the terms from the other topics which can be shown through the distance separation in the PCA scatterplot."
   ]
  }
 ],
 "metadata": {
  "kernelspec": {
   "display_name": "Python 3",
   "language": "python",
   "name": "python3"
  },
  "language_info": {
   "codemirror_mode": {
    "name": "ipython",
    "version": 3
   },
   "file_extension": ".py",
   "mimetype": "text/x-python",
   "name": "python",
   "nbconvert_exporter": "python",
   "pygments_lexer": "ipython3",
   "version": "3.9.0"
  },
  "vscode": {
   "interpreter": {
    "hash": "397704579725e15f5c7cb49fe5f0341eb7531c82d19f2c29d197e8b64ab5776b"
   }
  }
 },
 "nbformat": 4,
 "nbformat_minor": 5
}
